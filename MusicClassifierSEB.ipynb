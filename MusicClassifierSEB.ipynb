{
 "cells": [
  {
   "cell_type": "code",
   "id": "e8a58108-7e4b-4398-9d1e-02b5cce2fdbb",
   "metadata": {
    "ExecuteTime": {
     "end_time": "2025-04-07T15:05:44.557616Z",
     "start_time": "2025-04-07T15:05:44.545957Z"
    }
   },
   "source": [
    "#CNN giving options for the user to change number of blocks, activation function, optimiser and pooling type"
   ],
   "outputs": [],
   "execution_count": 55
  },
  {
   "cell_type": "code",
   "id": "737c8fbd-ff42-45df-bb34-87a54f903429",
   "metadata": {
    "collapsed": false,
    "jupyter": {
     "outputs_hidden": false
    },
    "ExecuteTime": {
     "end_time": "2025-04-07T15:05:46.297961Z",
     "start_time": "2025-04-07T15:05:44.607278Z"
    }
   },
   "source": [
    "\n",
    "%pip install librosa\n",
    "import torch\n",
    "import torch.nn as nn\n",
    "import numpy as np\n",
    "import matplotlib.pyplot as plt\n",
    "import librosa\n",
    "from glob import glob\n",
    "from torch.utils.data import Dataset, DataLoader\n",
    "import sklearn.metrics\n",
    "import wandb\n",
    "from scipy.ndimage import zoom"
   ],
   "outputs": [
    {
     "name": "stdout",
     "output_type": "stream",
     "text": [
      "Requirement already satisfied: librosa in c:\\users\\shona\\appdata\\local\\programs\\python\\python311\\lib\\site-packages (0.11.0)\n",
      "Requirement already satisfied: audioread>=2.1.9 in c:\\users\\shona\\appdata\\local\\programs\\python\\python311\\lib\\site-packages (from librosa) (3.0.1)\n",
      "Requirement already satisfied: numba>=0.51.0 in c:\\users\\shona\\appdata\\local\\programs\\python\\python311\\lib\\site-packages (from librosa) (0.61.0)\n",
      "Requirement already satisfied: numpy>=1.22.3 in c:\\users\\shona\\appdata\\local\\programs\\python\\python311\\lib\\site-packages (from librosa) (1.24.2)\n",
      "Requirement already satisfied: scipy>=1.6.0 in c:\\users\\shona\\appdata\\local\\programs\\python\\python311\\lib\\site-packages (from librosa) (1.15.1)\n",
      "Requirement already satisfied: scikit-learn>=1.1.0 in c:\\users\\shona\\appdata\\local\\programs\\python\\python311\\lib\\site-packages (from librosa) (1.6.1)\n",
      "Requirement already satisfied: joblib>=1.0 in c:\\users\\shona\\appdata\\local\\programs\\python\\python311\\lib\\site-packages (from librosa) (1.4.2)\n",
      "Requirement already satisfied: decorator>=4.3.0 in c:\\users\\shona\\appdata\\local\\programs\\python\\python311\\lib\\site-packages (from librosa) (5.2.1)\n",
      "Requirement already satisfied: soundfile>=0.12.1 in c:\\users\\shona\\appdata\\local\\programs\\python\\python311\\lib\\site-packages (from librosa) (0.13.1)\n",
      "Requirement already satisfied: pooch>=1.1 in c:\\users\\shona\\appdata\\local\\programs\\python\\python311\\lib\\site-packages (from librosa) (1.8.2)\n",
      "Requirement already satisfied: soxr>=0.3.2 in c:\\users\\shona\\appdata\\local\\programs\\python\\python311\\lib\\site-packages (from librosa) (0.5.0.post1)\n",
      "Requirement already satisfied: typing_extensions>=4.1.1 in c:\\users\\shona\\appdata\\local\\programs\\python\\python311\\lib\\site-packages (from librosa) (4.12.2)\n",
      "Requirement already satisfied: lazy_loader>=0.1 in c:\\users\\shona\\appdata\\local\\programs\\python\\python311\\lib\\site-packages (from librosa) (0.4)\n",
      "Requirement already satisfied: msgpack>=1.0 in c:\\users\\shona\\appdata\\local\\programs\\python\\python311\\lib\\site-packages (from librosa) (1.1.0)\n",
      "Requirement already satisfied: packaging in c:\\users\\shona\\appdata\\local\\programs\\python\\python311\\lib\\site-packages (from lazy_loader>=0.1->librosa) (24.2)\n",
      "Requirement already satisfied: llvmlite<0.45,>=0.44.0dev0 in c:\\users\\shona\\appdata\\local\\programs\\python\\python311\\lib\\site-packages (from numba>=0.51.0->librosa) (0.44.0)\n",
      "Requirement already satisfied: platformdirs>=2.5.0 in c:\\users\\shona\\appdata\\local\\programs\\python\\python311\\lib\\site-packages (from pooch>=1.1->librosa) (4.3.7)\n",
      "Requirement already satisfied: requests>=2.19.0 in c:\\users\\shona\\appdata\\local\\programs\\python\\python311\\lib\\site-packages (from pooch>=1.1->librosa) (2.32.3)\n",
      "Requirement already satisfied: threadpoolctl>=3.1.0 in c:\\users\\shona\\appdata\\local\\programs\\python\\python311\\lib\\site-packages (from scikit-learn>=1.1.0->librosa) (3.6.0)\n",
      "Requirement already satisfied: cffi>=1.0 in c:\\users\\shona\\appdata\\local\\programs\\python\\python311\\lib\\site-packages (from soundfile>=0.12.1->librosa) (1.17.1)\n",
      "Requirement already satisfied: pycparser in c:\\users\\shona\\appdata\\local\\programs\\python\\python311\\lib\\site-packages (from cffi>=1.0->soundfile>=0.12.1->librosa) (2.22)\n",
      "Requirement already satisfied: charset-normalizer<4,>=2 in c:\\users\\shona\\appdata\\local\\programs\\python\\python311\\lib\\site-packages (from requests>=2.19.0->pooch>=1.1->librosa) (3.4.1)\n",
      "Requirement already satisfied: idna<4,>=2.5 in c:\\users\\shona\\appdata\\local\\programs\\python\\python311\\lib\\site-packages (from requests>=2.19.0->pooch>=1.1->librosa) (3.10)\n",
      "Requirement already satisfied: urllib3<3,>=1.21.1 in c:\\users\\shona\\appdata\\local\\programs\\python\\python311\\lib\\site-packages (from requests>=2.19.0->pooch>=1.1->librosa) (2.3.0)\n",
      "Requirement already satisfied: certifi>=2017.4.17 in c:\\users\\shona\\appdata\\local\\programs\\python\\python311\\lib\\site-packages (from requests>=2.19.0->pooch>=1.1->librosa) (2025.1.31)\n",
      "Note: you may need to restart the kernel to use updated packages.\n"
     ]
    }
   ],
   "execution_count": 56
  },
  {
   "metadata": {
    "ExecuteTime": {
     "end_time": "2025-04-07T15:05:46.514257Z",
     "start_time": "2025-04-07T15:05:46.308077Z"
    }
   },
   "cell_type": "code",
   "source": [
    "%wandb login\n",
    "\n",
    "#SEB: a750ca0e259429fee54ebd9d28f63671626af944"
   ],
   "id": "36bc1ab20d7ffd52",
   "outputs": [
    {
     "data": {
      "text/plain": [
       "<wandb.jupyter.IFrame at 0x19361687950>"
      ],
      "text/html": [
       "<iframe src='https://wandb.ai/jazz-54-hate-club/login/workspace?jupyter=true' style='border:none;width:100%;height:420px;'></iframe>"
      ]
     },
     "metadata": {},
     "output_type": "display_data"
    }
   ],
   "execution_count": 57
  },
  {
   "cell_type": "code",
   "id": "cf10d516-dd0a-4753-ae8a-2bfc37fd254c",
   "metadata": {
    "collapsed": false,
    "jupyter": {
     "outputs_hidden": false
    },
    "ExecuteTime": {
     "end_time": "2025-04-07T15:05:46.562219Z",
     "start_time": "2025-04-07T15:05:46.555594Z"
    }
   },
   "source": [
    "def adjust_length(audio_data, target_length):                           \n",
    "    if len(audio_data) < target_length:                                 #when audio is shorter than target\n",
    "        padding = target_length-len(audio_data)                         #caclulated desired padding\n",
    "        adjusted_audio = np.concatenate((audio_data,np.zeros(padding))) #add padding to file\n",
    "    elif len(audio_data) > target_length:                               #when audio is longer than target\n",
    "        adjusted_audio = audio_data[:target_length]                     #only take the portion of the audio up till the target\n",
    "    else:                                                               #when audio is the target length\n",
    "        adjusted_audio = audio_data                                     #keep the original audio and don't truncate or pad\n",
    "                                                                        \n",
    "    return adjusted_audio                                               #return the truncated or padded signal with the exact target length"
   ],
   "outputs": [],
   "execution_count": 58
  },
  {
   "cell_type": "code",
   "id": "33124307-2c85-44ff-b21d-5e698bf8eacf",
   "metadata": {
    "ExecuteTime": {
     "end_time": "2025-04-07T15:05:46.636457Z",
     "start_time": "2025-04-07T15:05:46.627786Z"
    }
   },
   "source": [
    "def preprocess(audio_data, sample_rate, nfft):    \n",
    "    max_value = np.max(np.abs(audio_data))  #calculate the maximum amplitude within the file\n",
    "                                            \n",
    "    if max_value > 0:                       #for files with audio\n",
    "        normalised = audio_data/max_value   #divide so that the maximum amplitude is 1\n",
    "    else:                                   #if audio is silent\n",
    "        normalised = audio_data             #don't try to normalise it!\n",
    "\n",
    "    spectrogram = librosa.feature.melspectrogram(y=normalised, sr=sample_rate, n_fft=nfft) #compute the spectrogram with a small n_fft as the files are very short lengths\n",
    "\n",
    "    #new feature initalised here too:\n",
    "\n",
    "    #RMS_feature = librosa.feature.rms(y=normalised)\n",
    "\n",
    "    #RollOff = librosa.feature.spectral_rolloff(y=normalised, sr=sample_rate)\n",
    "    #print(RollOff.shape)\n",
    "    #RollOffResized = zoom(RollOff, (spectrogram.shape[0]/RollOff.shape[0],1))\n",
    "\n",
    "    ZCR_feature = librosa.feature.zero_crossing_rate(y=normalised)\n",
    "\n",
    "    #Sp_centroid = librosa.feature.spectral_centroid(y=normalised, sr=sample_rate, n_fft=nfft)\n",
    "\n",
    "\n",
    "    #make this bit equal to what we want second feature to be\n",
    "    Feature2Resized = ZCR_feature\n",
    "\n",
    "    return spectrogram, Feature2Resized             #return the calculated spectrogram data and new feature"
   ],
   "outputs": [],
   "execution_count": 59
  },
  {
   "metadata": {
    "ExecuteTime": {
     "end_time": "2025-04-07T15:05:46.721689Z",
     "start_time": "2025-04-07T15:05:46.652341Z"
    }
   },
   "cell_type": "code",
   "source": [
    "#small testing\n",
    "sr = 22050  #sample rate [Hz] as specified\n",
    "length = 30  #length of audio [s] as specified\n",
    "nfft = 2048 #fast fourier transform length\n",
    "\n",
    "#call outwith calling all\n",
    "file = 'genres_original/jazz/jazz.00053.wav'\n",
    "#call adjust length out of interest for compatability\n",
    "audio, fs = librosa.load(file)\n",
    "y_correct_length = adjust_length(audio,sr*length)                  #truncate or pad signals to desired length (1s)\n",
    "y_spectrogram, RollOff_resized = preprocess(y_correct_length, sr, nfft)\n",
    "print(y_spectrogram.shape)\n",
    "print(RollOff_resized.shape)"
   ],
   "id": "d03c3918d9842709",
   "outputs": [
    {
     "name": "stdout",
     "output_type": "stream",
     "text": [
      "(128, 1292)\n",
      "(1, 1292)\n"
     ]
    }
   ],
   "execution_count": 60
  },
  {
   "cell_type": "code",
   "id": "88945b01-c2c2-4215-98db-835157aaa518",
   "metadata": {
    "collapsed": false,
    "editable": true,
    "jupyter": {
     "outputs_hidden": false
    },
    "slideshow": {
     "slide_type": ""
    },
    "tags": [],
    "ExecuteTime": {
     "end_time": "2025-04-07T15:07:55.912098Z",
     "start_time": "2025-04-07T15:05:46.764249Z"
    }
   },
   "source": [
    "train_files, val_files, test_files = [], [], []\n",
    "train_features, val_features, test_features = [], [], []\n",
    "train_labels, val_labels, test_labels = [], [], []\n",
    "\n",
    "sr = 22050  #sample rate [Hz] as specified \n",
    "length = 30  #length of audio [s] as specified\n",
    "nfft = 2048 #fast fourier transform length\n",
    "\n",
    "for file in glob('genres_original/**/*.wav', recursive=True):\n",
    "    file_name = file.split('/')[-1]\n",
    "\n",
    "    if 'blues' in file_name:\n",
    "        label = 0\n",
    "    elif 'classical' in file_name:\n",
    "        label = 1\n",
    "    elif 'country' in file_name:\n",
    "        label = 2\n",
    "    elif 'disco' in file_name:\n",
    "        label = 3\n",
    "    elif 'hiphop' in file_name:\n",
    "        label = 4\n",
    "    elif 'jazz' in file_name:\n",
    "        label = 5\n",
    "    elif 'metal' in file_name:\n",
    "        label = 6\n",
    "    elif 'pop' in file_name:\n",
    "        label = 7 \n",
    "    elif 'reggae' in file_name:\n",
    "        label = 8\n",
    "    elif 'rock' in file_name:\n",
    "        label = 9\n",
    "    else:\n",
    "        assert(f'{file} is the wrong format. L.')\n",
    "\n",
    "    id = int(file_name.split('.')[1])\n",
    "    \n",
    "    #train = True if (id < 80 or label == 9) else False # Train/Test Split 80/20 not including rock genre\n",
    "    #val = True if  (80 <= id < 90 or label == 9) else False\n",
    "\n",
    "    train = True if id < 80 else False # Train/Test Split 80/20 not including rock genre\n",
    "    val = True if  80 <= id < 90 else False\n",
    "    \n",
    "    # Load Audio and append to train/test list\n",
    "    try:\n",
    "        audio, fs = librosa.load(file)\n",
    "        y_correct_length = adjust_length(audio,sr*length)                  #truncate or pad signals to desired length (1s)\n",
    "        y_spectrogram, feature2 = preprocess(y_correct_length, sr, nfft)             #normalise audio data so it peaks at 1\n",
    "        feature_1 = torch.from_numpy(y_spectrogram).float().squeeze(-1)      #add 1 dimension to start\n",
    "        feature_2 = torch.from_numpy(feature2).float().squeeze(-1) #same thing but new feature\n",
    "        feature = torch.cat((feature_1, feature_2), dim=0)\n",
    "        #dimension 0 so like added to the bottom, otherwise would be new dimension which I don't think is the\n",
    "        #shape we want for out feature vector? might be misunderstanding\n",
    "        #have to make tuple of tensors and specify dimension for this to work!\n",
    "\n",
    "        #this is where to add extra features!!\n",
    "        #will try adding a time domain feature as other is spectral (spectrogram)\n",
    "        #put this in preprocess so called at the same time!\n",
    "\n",
    "\n",
    "        if train:\n",
    "            train_files.append(file)\n",
    "            train_features.append(feature)\n",
    "            train_labels.append(label)\n",
    "        elif val:\n",
    "            val_files.append(file)\n",
    "            val_features.append(feature)\n",
    "            val_labels.append(label)\n",
    "        else:\n",
    "            test_files.append(audio)\n",
    "            test_features.append(feature)\n",
    "            test_labels.append(label)\n",
    "            \n",
    "    except Exception as e:\n",
    "        print(f'Error{e}: {file} not loaded')\n",
    "    \n",
    "#Checks: length of training, validation and test sets are as expected\n",
    "print(f\"Train files: {len(train_files)}, Validation files: {len(val_files)}, Test files: {len(test_files)}\")    \n",
    "\n",
    "train_features = torch.stack(train_features).float()    #convert list into float32 torch tensor\n",
    "val_features = torch.stack(val_features).float()        #convert list into float32 torch tensor\n",
    "test_features = torch.stack(test_features).float()      #convert list into float32 torch tensor\n",
    "\n",
    "#Check: print length and size of training, valildation and testing features \n",
    "print(f\"Train Features: {len(train_features)}, Validation Features: {len(val_features)}, Test Features: {len(test_features)}\")\n",
    "print(f\"Train Features: {(train_features.shape)}, Validation Features: {val_features.shape}, Test Features: {test_features.shape}\")"
   ],
   "outputs": [
    {
     "name": "stderr",
     "output_type": "stream",
     "text": [
      "C:\\Users\\Shona\\AppData\\Local\\Temp\\ipykernel_20064\\2077208354.py:45: UserWarning: PySoundFile failed. Trying audioread instead.\n",
      "  audio, fs = librosa.load(file)\n",
      "C:\\Users\\Shona\\AppData\\Local\\Programs\\Python\\Python311\\Lib\\site-packages\\librosa\\core\\audio.py:184: FutureWarning: librosa.core.audio.__audioread_load\n",
      "\tDeprecated as of librosa version 0.10.0.\n",
      "\tIt will be removed in librosa version 1.0.\n",
      "  y, sr_native = __audioread_load(path, offset, duration, dtype)\n"
     ]
    },
    {
     "name": "stdout",
     "output_type": "stream",
     "text": [
      "Error: genres_original\\jazz\\jazz.00054.wav not loaded\n",
      "Train files: 799, Validation files: 100, Test files: 100\n",
      "Train Features: 799, Validation Features: 100, Test Features: 100\n",
      "Train Features: torch.Size([799, 129, 1292]), Validation Features: torch.Size([100, 129, 1292]), Test Features: torch.Size([100, 129, 1292])\n"
     ]
    }
   ],
   "execution_count": 61
  },
  {
   "cell_type": "code",
   "id": "abc8bf46-0f91-43e8-99a7-a5362f30f9eb",
   "metadata": {
    "collapsed": false,
    "jupyter": {
     "outputs_hidden": false
    },
    "ExecuteTime": {
     "end_time": "2025-04-07T15:07:56.129028Z",
     "start_time": "2025-04-07T15:07:56.115772Z"
    }
   },
   "source": [
    "class AudioDataSet(Dataset):              # Don't change this line\n",
    "    def __init__(self, features, labels): # Don't change this line\n",
    "        self.features = (features)              #save features to class\n",
    "        self.labels = (labels)                  #save labels to class\n",
    "        \n",
    "    def __getitem__(self, i):             # Don't change this line\n",
    "        return self.features[i], self.labels[i] #return requested features and labels\n",
    " \n",
    "    def __len__(self):                    # Don't change this line\n",
    "        return len(self.features)               #return length of features"
   ],
   "outputs": [],
   "execution_count": 62
  },
  {
   "cell_type": "code",
   "id": "9538ed93-4e53-4adb-952d-a780005eff4b",
   "metadata": {
    "ExecuteTime": {
     "end_time": "2025-04-07T15:07:56.226796Z",
     "start_time": "2025-04-07T15:07:56.211876Z"
    }
   },
   "source": [
    "class ConvBlock(torch.nn.Module):                       # Don't change this line\n",
    "    def __init__(self, in_channels, out_channels, kernel_size, activation):          \n",
    "        super(ConvBlock, self).__init__()               # Don't change this line\n",
    "        self.conv = nn.Conv1d(in_channels, out_channels, kernel_size)   #1D convolution layer\n",
    "        if activation == 1:\n",
    "            self.act = nn.ReLU()                                        #non-linear activation function layer\n",
    "        elif activation == 2:\n",
    "            self.act = nn.Sigmoid()                                     #sigmoid activation function layer\n",
    "        elif activation == 3:\n",
    "            self.act = nn.Tanh()                                        #tanh activation function layer\n",
    "        else:\n",
    "            assert'Incorrect activation function index'\n",
    "                                                           \n",
    "    def forward(self, x):                               # Don't change this line\n",
    "        x = self.conv(x)                #apply 1d convolution layer\n",
    "        x = self.act(x)                 #apply activation function layer\n",
    "        return x                        #return the output from the block"
   ],
   "outputs": [],
   "execution_count": 63
  },
  {
   "cell_type": "code",
   "id": "88378caf-4227-4f4c-bf83-f495e158ff55",
   "metadata": {
    "ExecuteTime": {
     "end_time": "2025-04-07T15:07:56.243321Z",
     "start_time": "2025-04-07T15:07:56.230587Z"
    }
   },
   "source": [
    "class ConvNet(torch.nn.Module):                         # Don't change this line\n",
    "    def __init__(self, in_channels, out_channels, kernel_size, num_blocks, num_classes,activation,pool):   # Add arguments to the constructor method of your Class\n",
    "        super(ConvNet, self).__init__()                 # Don't change this line\n",
    "        self.conv_blocks = nn.ModuleList()              #initialise class variable for the network's structure\n",
    "                                                                                                \n",
    "        for block in range(num_blocks):                                                         #every block\n",
    "            self.conv_blocks.append(ConvBlock(in_channels,out_channels,kernel_size,activation)) #add the block to the architecture\n",
    "            in_channels = out_channels                                                          #set the number of input channels for the next block to be the size of the output channels of current block\n",
    "\n",
    "        if pool == 1:\n",
    "            self.pooling = nn.AdaptiveAvgPool1d(1)      #create global average pooling layer \n",
    "        elif pool == 2:\n",
    "            self.pooling = nn.AdaptiveMaxPool1d(1)      #create global maximum pooling layer \n",
    "        else:\n",
    "            assert'Incorrect pooling index'\n",
    "\n",
    "        self.linear_layer = nn.Linear(out_channels,num_classes)    #create linear layer for output\n",
    "\n",
    "    def forward(self, x):                               # Don't change this line\n",
    "        for conv_block in self.conv_blocks:             #every block\n",
    "            x = conv_block(x)                           #apply convolutional block\n",
    "\n",
    "        x = self.pooling(x)                             #apply global average pooling\n",
    "        x = x.squeeze(-1)                               #remove extra dimension \n",
    "        x = self.linear_layer(x)                        #apply linear layer\n",
    "      \n",
    "        return x "
   ],
   "outputs": [],
   "execution_count": 64
  },
  {
   "cell_type": "code",
   "id": "673cabfd-1759-4615-a799-a388886807ae",
   "metadata": {
    "ExecuteTime": {
     "end_time": "2025-04-07T15:07:56.330519Z",
     "start_time": "2025-04-07T15:07:56.314132Z"
    }
   },
   "source": [
    "def train_loop(model, train_loader, optimiser, BCEloss, num_epochs=100):\n",
    "    train_losses = []                                       #initialise training losses list\n",
    "    wandb.watch(model, log_freq=100)                        #adding in watch to see gradients\n",
    "    \n",
    "    for epoch in range(num_epochs):\n",
    "        train_loss = 0.0                                    #initialise the training loss\n",
    "        for batch in train_loader:\n",
    "            features, labels = batch                        #find features and labels in batch\n",
    "            features = features.squeeze(1)                  #remove extra dimension\n",
    "            optimiser.zero_grad()                           #zero gradient optimiser\n",
    "            \n",
    "            output = model(features)                        #compute model's predictions\n",
    "            loss = BCEloss(output, labels)                  #calculate training loss\n",
    "            \n",
    "            loss.backward()                                 #backward propagation\n",
    "            optimiser.step()                                #update the NN's parameters\n",
    "            train_loss += loss.item()                       #add the iteration's loss to a counter\n",
    "                                                            \n",
    "        avg_loss = train_loss/len(train_loader)             #calculate average loss\n",
    "\n",
    "        print(f\"Epoch {epoch+1}/{num_epochs}\")\n",
    "        if epoch % 5 == 0:\n",
    "            validate_loop(model, val_loader, BCEloss)\n",
    "\n",
    "        wandb.log({\"Epoch: \": epoch, \"Training Loss: \": avg_loss})\n",
    "        train_losses.append(avg_loss)                       #add average loss to list"
   ],
   "outputs": [],
   "execution_count": 65
  },
  {
   "cell_type": "code",
   "id": "e4e8871e-8526-4e62-aa1b-b5ca30d7c727",
   "metadata": {
    "ExecuteTime": {
     "end_time": "2025-04-07T15:07:56.502428Z",
     "start_time": "2025-04-07T15:07:56.482775Z"
    }
   },
   "source": [
    "def validate_loop(model, val_loader, BCEloss):\n",
    "    model.eval()\n",
    "    val_losses, val_accs = [], []                            #initialise lists for validation losses and validation accuracies\n",
    "    correct_pred, total_pred = 0, 0                          #initialise counter for total predictions and amount of correct predictions\n",
    "\n",
    "    with torch.no_grad():\n",
    "        for epoch in range(0, num_epochs, 5):                    #for every 5 iterations\n",
    "            val_loss = 0.0                                       #initialise validation loss\n",
    "    \n",
    "            for batch in val_loader:      \n",
    "                features, labels = batch                         #find features and labels in batch\n",
    "                features = features.squeeze(1)                   #remove extra dimension\n",
    "                \n",
    "                output = model(features)                         #compute model's predictions\n",
    "                loss = BCEloss(output, labels)                   #calculate validation loss\n",
    "                val_loss += loss.item()                          #add validation loss list with loss\n",
    "        \n",
    "                _, pred = torch.max(output, 1)                   #pred = index of the features maximum (class labels), ignoring maximum value (_)\n",
    "                correct_pred += (pred == labels).sum().item()    #add to counter if the prediction is equal to the label\n",
    "                total_pred += labels.size(0)                     #add to counter of total predictions\n",
    "    \n",
    "        avg_loss = val_loss/len(val_loader)              #calculate average loss\n",
    "        acc = correct_pred/total_pred                    #calculate accuracy  \n",
    "            \n",
    "        val_losses.append(avg_loss)                      #add average loss to the validation loss list\n",
    "        val_accs.append(acc*100)                         #add accuracy to the validation accuracy list\n",
    "\n",
    "#Output: print overall accuracy and loss from testing set\n",
    "        print(f'Validation loss: {avg_loss:.3f}, Validation Accuracy: {acc*100:.1f}%')\n",
    "        wandb.log({\"Validation Loss\": avg_loss, \"Validation Accuracy\": acc*100})"
   ],
   "outputs": [],
   "execution_count": 66
  },
  {
   "cell_type": "code",
   "id": "4df9da25-94f8-4d07-a8e5-0c29f321465a",
   "metadata": {
    "ExecuteTime": {
     "end_time": "2025-04-07T15:07:56.555331Z",
     "start_time": "2025-04-07T15:07:56.541814Z"
    }
   },
   "source": [
    "def test_loop(model, test_loader, BCEloss):\n",
    "    model.eval()\n",
    "    test_loss = 0.0                                          #initialise test loss\n",
    "    correct_pred, total_pred = 0, 0                          #initialise counter for total predictions and amount of correct predictions\n",
    "    test_labels, test_preds = [], []                         #initialise lists for test labels and test predictions\n",
    "\n",
    "    with torch.no_grad():\n",
    "        for batch in test_loader:\n",
    "            features, labels = batch                             #find features and labels in batch\n",
    "            features = features.squeeze(1)                       #remove extra dimension\n",
    "            \n",
    "            output = model(features)                             #compute model's predictions\n",
    "            loss = BCEloss(output, labels)                       #calculate test loss \n",
    "            test_loss += loss.item()                             #add test loss list with loss\n",
    "    \n",
    "            _, pred = torch.max(output, 1)                       #pred = index of the features maximum (class labels), ignoring maximum value (_)\n",
    "            correct_pred += (pred == labels).sum().item()        #add to counter if the prediction is equal to the label\n",
    "            total_pred += labels.size(0)                         #add to counter of total predictions\n",
    "    \n",
    "            test_labels.extend(labels.numpy())                   #add correct predictions to list\n",
    "            test_preds.extend(pred.numpy())                      #add model predictions to list \n",
    "            \n",
    "    avg_loss = test_loss/len(test_loader)                #calculate average loss\n",
    "    acc = correct_pred/total_pred                        #calculate accuracy  \n",
    "\n",
    "#Output: print overall accuracy and loss from testing set\n",
    "    print(f'Testing loss: {avg_loss:.3f}, Testing Accuracy: {acc*100:.1f}%')\n",
    "    #maybe log with wandb some other way\n",
    "    return test_labels, test_preds"
   ],
   "outputs": [],
   "execution_count": 67
  },
  {
   "cell_type": "code",
   "id": "01ca6b53-eaa1-4b9e-bd1d-98dbf905a80d",
   "metadata": {
    "ExecuteTime": {
     "end_time": "2025-04-07T15:11:35.142272Z",
     "start_time": "2025-04-07T15:07:56.636355Z"
    }
   },
   "source": [
    "batch_size = 50\n",
    "\n",
    "train_dataset = AudioDataSet(train_features, train_labels)                      #create training dataset and labels\n",
    "train_loader = DataLoader(train_dataset, batch_size=batch_size, shuffle=True)   #load training dataset in batches of 50 samples\n",
    "                                                                        \n",
    "val_dataset = AudioDataSet(val_features, val_labels)                            #create validation dataset and labels\n",
    "val_loader = DataLoader(val_dataset, batch_size=batch_size, shuffle=False)      #load validation dataset in batches of 50 samples\n",
    "\n",
    "test_dataset = AudioDataSet(test_features, test_labels)                         #create test dataset and labels\n",
    "test_loader = DataLoader(test_dataset, batch_size=batch_size, shuffle=False)    #load test dataset in batches of 50 samples\n",
    "\n",
    "#User defined parameters\n",
    "num_blocks = 8      #number of blocks\n",
    "activation = 3       #1:ReLU    2:Sigmoid    3:Tanh\n",
    "pool = 1             #1:Average 2:Maximum\n",
    "optimiser = 1        #1:Adam    2:SGD\n",
    "\n",
    "model = ConvNet(in_channels=129, out_channels=16, kernel_size=3, num_blocks=num_blocks, num_classes=10, activation=activation, pool=pool)     #create instance of CNN\n",
    "\n",
    "if optimiser == 1:\n",
    "    optimiser = torch.optim.Adam(model.parameters())                   #create instance of Adam optimiser\n",
    "    func3 = \"Adam\"\n",
    "elif optimiser == 2:\n",
    "    optimiser = torch.optim.SGD(model.parameters())                    #create instance of SGD optimiser\n",
    "    func3 = \"SGD\"\n",
    "else:\n",
    "    assert'Incorrect optimiser index'\n",
    "\n",
    "BCEloss = nn.CrossEntropyLoss()                                         #create instance of Binary Cross Entropy loss\n",
    "num_epochs = 125                                                         #number of iterations/epochs\n",
    "\n",
    "if activation == 1:\n",
    "    func = \"ReLU\"\n",
    "elif activation == 2:\n",
    "    func = \"Sigmoid\"\n",
    "elif activation == 3:\n",
    "    func = \"Tanh\"\n",
    "\n",
    "if pool == 1:\n",
    "    func2 = \"Average\"\n",
    "elif pool == 2:\n",
    "    func2 = \"Maximum\"\n",
    "    \n",
    "print(f\"Model training with: {num_blocks} blocks, {func} Activation, Adaptive {func2} Pooling and {func3} Optimiser for {num_epochs} epochs.\")\n",
    "\n",
    "my_config = {\"Number of blocks\" : num_blocks, \"Activation\" : activation, \"Optimiser\" : optimiser, \"Pooling\" : pool, \"Number of epochs\" : num_epochs}\n",
    "wandb.init(project='Genre_classifier', entity='jazz-54-hate-club', reinit=True, config=my_config)\n",
    "\n",
    "\n",
    "artifact = wandb.Artifact(name=\"Default_model\", type=\"model\", metadata= my_config)\n",
    "#trying to add model tracking, with metadata only\n",
    "#print(artifact.digest)\n",
    "wandb.log_artifact(artifact)\n",
    "\n",
    "train_loop(model, train_loader, optimiser, BCEloss, num_epochs)         #run training loop for 100 epochs\n",
    "test_labels, test_preds = test_loop(model, test_loader, BCEloss)        #run testing loop\n",
    "                                                                         \n",
    "matrix = sklearn.metrics.confusion_matrix(test_labels,test_preds)   #create confusion matrix using testing dataset\n",
    "disp = sklearn.metrics.ConfusionMatrixDisplay(matrix)               #add matrix to displayable plot variable\n",
    "\n",
    "#Output: display confusion matrix and save figure to file\n",
    "disp.plot()                \n",
    "#plt.savefig('GenreClassifierCustomisable.png')\n",
    "plt.savefig(f'Testing{num_blocks},{func},{func2},{func3},{num_epochs}.png')"
   ],
   "outputs": [
    {
     "name": "stdout",
     "output_type": "stream",
     "text": [
      "Model training with: 8 blocks, Tanh Activation, Adaptive Average Pooling and Adam Optimiser for 125 epochs.\n"
     ]
    },
    {
     "data": {
      "text/plain": [
       "<IPython.core.display.HTML object>"
      ],
      "text/html": []
     },
     "metadata": {},
     "output_type": "display_data"
    },
    {
     "data": {
      "text/plain": [
       "<IPython.core.display.HTML object>"
      ],
      "text/html": [
       "<br>    <style><br>        .wandb-row {<br>            display: flex;<br>            flex-direction: row;<br>            flex-wrap: wrap;<br>            justify-content: flex-start;<br>            width: 100%;<br>        }<br>        .wandb-col {<br>            display: flex;<br>            flex-direction: column;<br>            flex-basis: 100%;<br>            flex: 1;<br>            padding: 10px;<br>        }<br>    </style><br><div class=\"wandb-row\"><div class=\"wandb-col\"><h3>Run history:</h3><br/><table class=\"wandb\"><tr><td>Epoch: </td><td>▁▁▁▁▂▂▂▂▃▃▃▃▃▄▄▄▄▄▅▅▅▅▅▅▅▆▆▆▆▆▆▆▆▇▇▇████</td></tr><tr><td>Training Loss: </td><td>█▇▇▆▆▅▅▅▅▅▄▄▄▃▃▃▃▃▃▃▃▂▂▂▂▂▃▂▂▁▁▂▁▁▁▁▁▁▁▁</td></tr><tr><td>Validation Accuracy</td><td>▁▁▄▅▆▆▇▇█▇█▇▆▇▇█▇▆▇▆█▇█▇▇</td></tr><tr><td>Validation Loss</td><td>▁▁▁▁▁▂▂▂▂▂▂▃▄▃▄▅▅▄▄▆▅▇███</td></tr></table><br/></div><div class=\"wandb-col\"><h3>Run summary:</h3><br/><table class=\"wandb\"><tr><td>Epoch: </td><td>124</td></tr><tr><td>Training Loss: </td><td>0.08108</td></tr><tr><td>Validation Accuracy</td><td>53</td></tr><tr><td>Validation Loss</td><td>8.93648</td></tr></table><br/></div></div>"
      ]
     },
     "metadata": {},
     "output_type": "display_data"
    },
    {
     "data": {
      "text/plain": [
       "<IPython.core.display.HTML object>"
      ],
      "text/html": [
       " View run <strong style=\"color:#cdcd00\">lunar-music-135</strong> at: <a href='https://wandb.ai/jazz-54-hate-club/Genre_classifier/runs/5os4qojz' target=\"_blank\">https://wandb.ai/jazz-54-hate-club/Genre_classifier/runs/5os4qojz</a><br> View project at: <a href='https://wandb.ai/jazz-54-hate-club/Genre_classifier' target=\"_blank\">https://wandb.ai/jazz-54-hate-club/Genre_classifier</a><br>Synced 5 W&B file(s), 0 media file(s), 0 artifact file(s) and 0 other file(s)"
      ]
     },
     "metadata": {},
     "output_type": "display_data"
    },
    {
     "data": {
      "text/plain": [
       "<IPython.core.display.HTML object>"
      ],
      "text/html": [
       "Find logs at: <code>.\\wandb\\run-20250407_155440-5os4qojz\\logs</code>"
      ]
     },
     "metadata": {},
     "output_type": "display_data"
    },
    {
     "data": {
      "text/plain": [
       "<IPython.core.display.HTML object>"
      ],
      "text/html": [
       "Waiting for wandb.init()..."
      ]
     },
     "metadata": {},
     "output_type": "display_data"
    },
    {
     "data": {
      "text/plain": [
       "<IPython.core.display.HTML object>"
      ],
      "text/html": [
       "Tracking run with wandb version 0.19.8"
      ]
     },
     "metadata": {},
     "output_type": "display_data"
    },
    {
     "data": {
      "text/plain": [
       "<IPython.core.display.HTML object>"
      ],
      "text/html": [
       "Run data is saved locally in <code>C:\\Users\\Shona\\Documents\\4th Year\\Audio Machine Learning\\Assignment 2\\Genre_Classifier\\wandb\\run-20250407_160756-eqmh69gd</code>"
      ]
     },
     "metadata": {},
     "output_type": "display_data"
    },
    {
     "data": {
      "text/plain": [
       "<IPython.core.display.HTML object>"
      ],
      "text/html": [
       "Syncing run <strong><a href='https://wandb.ai/jazz-54-hate-club/Genre_classifier/runs/eqmh69gd' target=\"_blank\">hardy-frost-136</a></strong> to <a href='https://wandb.ai/jazz-54-hate-club/Genre_classifier' target=\"_blank\">Weights & Biases</a> (<a href='https://wandb.me/developer-guide' target=\"_blank\">docs</a>)<br>"
      ]
     },
     "metadata": {},
     "output_type": "display_data"
    },
    {
     "data": {
      "text/plain": [
       "<IPython.core.display.HTML object>"
      ],
      "text/html": [
       " View project at <a href='https://wandb.ai/jazz-54-hate-club/Genre_classifier' target=\"_blank\">https://wandb.ai/jazz-54-hate-club/Genre_classifier</a>"
      ]
     },
     "metadata": {},
     "output_type": "display_data"
    },
    {
     "data": {
      "text/plain": [
       "<IPython.core.display.HTML object>"
      ],
      "text/html": [
       " View run at <a href='https://wandb.ai/jazz-54-hate-club/Genre_classifier/runs/eqmh69gd' target=\"_blank\">https://wandb.ai/jazz-54-hate-club/Genre_classifier/runs/eqmh69gd</a>"
      ]
     },
     "metadata": {},
     "output_type": "display_data"
    },
    {
     "name": "stdout",
     "output_type": "stream",
     "text": [
      "Epoch 1/125\n",
      "Validation loss: 2.274, Validation Accuracy: 12.0%\n",
      "Epoch 2/125\n",
      "Epoch 3/125\n",
      "Epoch 4/125\n",
      "Epoch 5/125\n",
      "Epoch 6/125\n",
      "Validation loss: 1.974, Validation Accuracy: 23.0%\n",
      "Epoch 7/125\n",
      "Epoch 8/125\n",
      "Epoch 9/125\n",
      "Epoch 10/125\n",
      "Epoch 11/125\n",
      "Validation loss: 1.838, Validation Accuracy: 32.0%\n",
      "Epoch 12/125\n",
      "Epoch 13/125\n",
      "Epoch 14/125\n",
      "Epoch 15/125\n",
      "Epoch 16/125\n",
      "Validation loss: 1.761, Validation Accuracy: 30.0%\n",
      "Epoch 17/125\n",
      "Epoch 18/125\n",
      "Epoch 19/125\n",
      "Epoch 20/125\n",
      "Epoch 21/125\n",
      "Validation loss: 1.730, Validation Accuracy: 34.0%\n",
      "Epoch 22/125\n",
      "Epoch 23/125\n",
      "Epoch 24/125\n",
      "Epoch 25/125\n",
      "Epoch 26/125\n",
      "Validation loss: 1.723, Validation Accuracy: 33.0%\n",
      "Epoch 27/125\n",
      "Epoch 28/125\n",
      "Epoch 29/125\n",
      "Epoch 30/125\n",
      "Epoch 31/125\n",
      "Validation loss: 1.681, Validation Accuracy: 35.0%\n",
      "Epoch 32/125\n",
      "Epoch 33/125\n",
      "Epoch 34/125\n",
      "Epoch 35/125\n",
      "Epoch 36/125\n",
      "Validation loss: 1.652, Validation Accuracy: 33.0%\n",
      "Epoch 37/125\n",
      "Epoch 38/125\n",
      "Epoch 39/125\n",
      "Epoch 40/125\n",
      "Epoch 41/125\n",
      "Validation loss: 1.692, Validation Accuracy: 36.0%\n",
      "Epoch 42/125\n",
      "Epoch 43/125\n",
      "Epoch 44/125\n",
      "Epoch 45/125\n",
      "Epoch 46/125\n",
      "Validation loss: 1.617, Validation Accuracy: 37.0%\n",
      "Epoch 47/125\n",
      "Epoch 48/125\n",
      "Epoch 49/125\n",
      "Epoch 50/125\n",
      "Epoch 51/125\n",
      "Validation loss: 1.681, Validation Accuracy: 35.0%\n",
      "Epoch 52/125\n",
      "Epoch 53/125\n",
      "Epoch 54/125\n",
      "Epoch 55/125\n",
      "Epoch 56/125\n",
      "Validation loss: 1.662, Validation Accuracy: 31.0%\n",
      "Epoch 57/125\n",
      "Epoch 58/125\n",
      "Epoch 59/125\n",
      "Epoch 60/125\n",
      "Epoch 61/125\n",
      "Validation loss: 1.606, Validation Accuracy: 38.0%\n",
      "Epoch 62/125\n",
      "Epoch 63/125\n",
      "Epoch 64/125\n",
      "Epoch 65/125\n",
      "Epoch 66/125\n",
      "Validation loss: 1.596, Validation Accuracy: 35.0%\n",
      "Epoch 67/125\n",
      "Epoch 68/125\n",
      "Epoch 69/125\n",
      "Epoch 70/125\n",
      "Epoch 71/125\n",
      "Validation loss: 1.631, Validation Accuracy: 32.0%\n",
      "Epoch 72/125\n",
      "Epoch 73/125\n",
      "Epoch 74/125\n",
      "Epoch 75/125\n",
      "Epoch 76/125\n",
      "Validation loss: 1.591, Validation Accuracy: 37.0%\n",
      "Epoch 77/125\n",
      "Epoch 78/125\n",
      "Epoch 79/125\n",
      "Epoch 80/125\n",
      "Epoch 81/125\n",
      "Validation loss: 1.708, Validation Accuracy: 35.0%\n",
      "Epoch 82/125\n",
      "Epoch 83/125\n",
      "Epoch 84/125\n",
      "Epoch 85/125\n",
      "Epoch 86/125\n",
      "Validation loss: 1.581, Validation Accuracy: 36.0%\n",
      "Epoch 87/125\n",
      "Epoch 88/125\n",
      "Epoch 89/125\n",
      "Epoch 90/125\n",
      "Epoch 91/125\n",
      "Validation loss: 1.554, Validation Accuracy: 42.0%\n",
      "Epoch 92/125\n",
      "Epoch 93/125\n",
      "Epoch 94/125\n",
      "Epoch 95/125\n",
      "Epoch 96/125\n",
      "Validation loss: 1.606, Validation Accuracy: 34.0%\n",
      "Epoch 97/125\n",
      "Epoch 98/125\n",
      "Epoch 99/125\n",
      "Epoch 100/125\n",
      "Epoch 101/125\n",
      "Validation loss: 1.597, Validation Accuracy: 37.0%\n",
      "Epoch 102/125\n",
      "Epoch 103/125\n",
      "Epoch 104/125\n",
      "Epoch 105/125\n",
      "Epoch 106/125\n",
      "Validation loss: 1.587, Validation Accuracy: 36.0%\n",
      "Epoch 107/125\n",
      "Epoch 108/125\n",
      "Epoch 109/125\n",
      "Epoch 110/125\n",
      "Epoch 111/125\n",
      "Validation loss: 1.610, Validation Accuracy: 35.0%\n",
      "Epoch 112/125\n",
      "Epoch 113/125\n",
      "Epoch 114/125\n",
      "Epoch 115/125\n",
      "Epoch 116/125\n",
      "Validation loss: 1.552, Validation Accuracy: 37.0%\n",
      "Epoch 117/125\n",
      "Epoch 118/125\n",
      "Epoch 119/125\n",
      "Epoch 120/125\n",
      "Epoch 121/125\n",
      "Validation loss: 1.575, Validation Accuracy: 40.0%\n",
      "Epoch 122/125\n",
      "Epoch 123/125\n",
      "Epoch 124/125\n",
      "Epoch 125/125\n",
      "Testing loss: 1.473, Testing Accuracy: 41.0%\n"
     ]
    },
    {
     "data": {
      "text/plain": [
       "<Figure size 640x480 with 2 Axes>"
      ],
      "image/png": "[encoded data removed]"
     },
     "metadata": {},
     "output_type": "display_data"
    }
   ],
   "execution_count": 68
  },
  {
   "cell_type": "code",
   "id": "b3ee91af-80a6-4910-a11d-aae88f421463",
   "metadata": {
    "ExecuteTime": {
     "end_time": "2025-04-07T15:11:35.255244Z",
     "start_time": "2025-04-07T15:11:35.240963Z"
    }
   },
   "source": [],
   "outputs": [],
   "execution_count": null
  },
  {
   "metadata": {
    "ExecuteTime": {
     "end_time": "2025-04-07T15:11:35.336375Z",
     "start_time": "2025-04-07T15:11:35.324899Z"
    }
   },
   "cell_type": "code",
   "source": "",
   "id": "83ea81d9b12863e4",
   "outputs": [],
   "execution_count": null
  }
 ],
 "metadata": {
  "kernelspec": {
   "display_name": "Python 3 (ipykernel)",
   "language": "python",
   "name": "python3"
  },
  "language_info": {
   "codemirror_mode": {
    "name": "ipython",
    "version": 3
   },
   "file_extension": ".py",
   "mimetype": "text/x-python",
   "name": "python",
   "nbconvert_exporter": "python",
   "pygments_lexer": "ipython3",
   "version": "3.11.10"
  }
 },
 "nbformat": 4,
 "nbformat_minor": 5
}
