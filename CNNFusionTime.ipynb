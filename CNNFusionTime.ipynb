{
 "cells": [
  {
   "cell_type": "code",
   "execution_count": 1,
   "id": "e8a58108-7e4b-4398-9d1e-02b5cce2fdbb",
   "metadata": {},
   "outputs": [],
   "source": [
    "#CNN giving options for the user to change number of blocks, activation function, optimiser and pooling type"
   ]
  },
  {
   "cell_type": "code",
   "execution_count": 2,
   "id": "737c8fbd-ff42-45df-bb34-87a54f903429",
   "metadata": {
    "collapsed": false,
    "jupyter": {
     "outputs_hidden": false
    }
   },
   "outputs": [
    {
     "name": "stdout",
     "output_type": "stream",
     "text": [
      "Requirement already satisfied: librosa in /opt/conda/lib/python3.11/site-packages (0.11.0)\n",
      "Requirement already satisfied: audioread>=2.1.9 in /opt/conda/lib/python3.11/site-packages (from librosa) (3.0.1)\n",
      "Requirement already satisfied: numba>=0.51.0 in /opt/conda/lib/python3.11/site-packages (from librosa) (0.60.0)\n",
      "Requirement already satisfied: numpy>=1.22.3 in /opt/conda/lib/python3.11/site-packages (from librosa) (1.26.4)\n",
      "Requirement already satisfied: scipy>=1.6.0 in /opt/conda/lib/python3.11/site-packages (from librosa) (1.14.1)\n",
      "Requirement already satisfied: scikit-learn>=1.1.0 in /opt/conda/lib/python3.11/site-packages (from librosa) (1.5.2)\n",
      "Requirement already satisfied: joblib>=1.0 in /opt/conda/lib/python3.11/site-packages (from librosa) (1.4.2)\n",
      "Requirement already satisfied: decorator>=4.3.0 in /opt/conda/lib/python3.11/site-packages (from librosa) (5.1.1)\n",
      "Requirement already satisfied: soundfile>=0.12.1 in /opt/conda/lib/python3.11/site-packages (from librosa) (0.13.1)\n",
      "Requirement already satisfied: pooch>=1.1 in /opt/conda/lib/python3.11/site-packages (from librosa) (1.8.2)\n",
      "Requirement already satisfied: soxr>=0.3.2 in /opt/conda/lib/python3.11/site-packages (from librosa) (0.5.0.post1)\n",
      "Requirement already satisfied: typing_extensions>=4.1.1 in /opt/conda/lib/python3.11/site-packages (from librosa) (4.11.0)\n",
      "Requirement already satisfied: lazy_loader>=0.1 in /opt/conda/lib/python3.11/site-packages (from librosa) (0.4)\n",
      "Requirement already satisfied: msgpack>=1.0 in /opt/conda/lib/python3.11/site-packages (from librosa) (1.1.0)\n",
      "Requirement already satisfied: packaging in /opt/conda/lib/python3.11/site-packages (from lazy_loader>=0.1->librosa) (24.0)\n",
      "Requirement already satisfied: llvmlite<0.44,>=0.43.0dev0 in /opt/conda/lib/python3.11/site-packages (from numba>=0.51.0->librosa) (0.43.0)\n",
      "Requirement already satisfied: platformdirs>=2.5.0 in /opt/conda/lib/python3.11/site-packages (from pooch>=1.1->librosa) (4.2.0)\n",
      "Requirement already satisfied: requests>=2.19.0 in /opt/conda/lib/python3.11/site-packages (from pooch>=1.1->librosa) (2.32.3)\n",
      "Requirement already satisfied: threadpoolctl>=3.1.0 in /opt/conda/lib/python3.11/site-packages (from scikit-learn>=1.1.0->librosa) (3.5.0)\n",
      "Requirement already satisfied: cffi>=1.0 in /opt/conda/lib/python3.11/site-packages (from soundfile>=0.12.1->librosa) (1.16.0)\n",
      "Requirement already satisfied: pycparser in /opt/conda/lib/python3.11/site-packages (from cffi>=1.0->soundfile>=0.12.1->librosa) (2.22)\n",
      "Requirement already satisfied: charset-normalizer<4,>=2 in /opt/conda/lib/python3.11/site-packages (from requests>=2.19.0->pooch>=1.1->librosa) (3.3.2)\n",
      "Requirement already satisfied: idna<4,>=2.5 in /opt/conda/lib/python3.11/site-packages (from requests>=2.19.0->pooch>=1.1->librosa) (3.6)\n",
      "Requirement already satisfied: urllib3<3,>=1.21.1 in /opt/conda/lib/python3.11/site-packages (from requests>=2.19.0->pooch>=1.1->librosa) (2.2.3)\n",
      "Requirement already satisfied: certifi>=2017.4.17 in /opt/conda/lib/python3.11/site-packages (from requests>=2.19.0->pooch>=1.1->librosa) (2024.8.30)\n",
      "Note: you may need to restart the kernel to use updated packages.\n"
     ]
    }
   ],
   "source": [
    "%pip install librosa\n",
    "import torch\n",
    "import torch.nn as nn\n",
    "import numpy as np\n",
    "import matplotlib.pyplot as plt\n",
    "import librosa\n",
    "from glob import glob\n",
    "from torch.utils.data import Dataset, DataLoader\n",
    "import sklearn.metrics"
   ]
  },
  {
   "cell_type": "code",
   "execution_count": 3,
   "id": "cf10d516-dd0a-4753-ae8a-2bfc37fd254c",
   "metadata": {
    "collapsed": false,
    "jupyter": {
     "outputs_hidden": false
    }
   },
   "outputs": [],
   "source": [
    "def adjust_length(audio_data, target_length):                           \n",
    "    if len(audio_data) < target_length:                                 #when audio is shorter than target\n",
    "        padding = target_length-len(audio_data)                         #caclulated desired padding\n",
    "        adjusted_audio = np.concatenate((audio_data,np.zeros(padding))) #add padding to file\n",
    "    elif len(audio_data) > target_length:                               #when audio is longer than target\n",
    "        adjusted_audio = audio_data[:target_length]                     #only take the portion of the audio up till the target\n",
    "    else:                                                               #when audio is the target length\n",
    "        adjusted_audio = audio_data                                     #keep the original audio and don't truncate or pad\n",
    "                                                                        \n",
    "    return adjusted_audio                                               #return the truncated or padded signal with the exact target length"
   ]
  },
  {
   "cell_type": "code",
   "execution_count": 4,
   "id": "33124307-2c85-44ff-b21d-5e698bf8eacf",
   "metadata": {},
   "outputs": [],
   "source": [
    "def preprocess(audio_data, sample_rate, nfft):    \n",
    "    max_value = np.max(np.abs(audio_data))  #calculate the maximum amplitude within the file\n",
    "                                            \n",
    "    if max_value > 0:                       #for files with audio\n",
    "        normalised = audio_data/max_value   #divide so that the maximum amplitude is 1\n",
    "    else:                                   #if audio is silent\n",
    "        normalised = audio_data             #don't try to normalise it!\n",
    "\n",
    "    spectrogram = librosa.feature.melspectrogram(y=normalised, sr=sample_rate, n_fft=nfft) #compute the spectrogram with a small n_fft as the files are very short lengths\n",
    "    \n",
    "    return spectrogram                      #return the calculated spectrogram data"
   ]
  },
  {
   "cell_type": "code",
   "execution_count": 21,
   "id": "88945b01-c2c2-4215-98db-835157aaa518",
   "metadata": {
    "collapsed": false,
    "editable": true,
    "jupyter": {
     "outputs_hidden": false
    },
    "slideshow": {
     "slide_type": ""
    },
    "tags": []
   },
   "outputs": [
    {
     "name": "stderr",
     "output_type": "stream",
     "text": [
      "/tmp/ipykernel_2577/2839233378.py:44: UserWarning: PySoundFile failed. Trying audioread instead.\n",
      "  audio, fs = librosa.load(file)\n",
      "/opt/conda/lib/python3.11/site-packages/librosa/core/audio.py:184: FutureWarning: librosa.core.audio.__audioread_load\n",
      "\tDeprecated as of librosa version 0.10.0.\n",
      "\tIt will be removed in librosa version 1.0.\n",
      "  y, sr_native = __audioread_load(path, offset, duration, dtype)\n"
     ]
    },
    {
     "name": "stdout",
     "output_type": "stream",
     "text": [
      "Error : ../Worksheet7/Data/genres_original/jazz/jazz.00054.wav not loaded\n",
      "Train files: 799, Validation files: 100, Test files: 100\n",
      "Train Features: 799, Validation Features: 100, Test Features: 100\n",
      "Train Features: torch.Size([799, 128, 1292]), Validation Features: torch.Size([100, 128, 1292]), Test Features: torch.Size([100, 128, 1292])\n"
     ]
    }
   ],
   "source": [
    "train_files, val_files, test_files = [], [], []\n",
    "train_features, val_features, test_features = [], [], []\n",
    "train_labels, val_labels, test_labels = [], [], []\n",
    "\n",
    "sr = 22050  #sample rate [Hz] as specified \n",
    "length = 30  #length of audio [s] as specified\n",
    "nfft = 2048 #fast fourier transform length\n",
    "\n",
    "for file in glob('../Worksheet7/Data/genres_original/**/*.wav', recursive=True):\n",
    "    file_name = file.split('/')[-1]\n",
    "\n",
    "    if 'blues' in file_name:\n",
    "        label = 0\n",
    "    elif 'classical' in file_name:\n",
    "        label = 1\n",
    "    elif 'country' in file_name:\n",
    "        label = 2\n",
    "    elif 'disco' in file_name:\n",
    "        label = 3\n",
    "    elif 'hiphop' in file_name:\n",
    "        label = 4\n",
    "    elif 'jazz' in file_name:\n",
    "        label = 5\n",
    "    elif 'metal' in file_name:\n",
    "        label = 6\n",
    "    elif 'pop' in file_name:\n",
    "        label = 7 \n",
    "    elif 'reggae' in file_name:\n",
    "        label = 8\n",
    "    elif 'rock' in file_name:\n",
    "        label = 9\n",
    "    else:\n",
    "        assert(f'{file} is the wrong format. L.')\n",
    "\n",
    "    id = int(file_name.split('.')[1])\n",
    "    \n",
    "    #train = True if (id < 80 or label == 9) else False # Train/Test Split 80/20 not including rock genre\n",
    "    #val = True if  (80 <= id < 90 or label == 9) else False\n",
    "\n",
    "    train = True if id < 80 else False # Train/Test Split 80/20 not including rock genre\n",
    "    val = True if  80 <= id < 90 else False\n",
    "    \n",
    "    # Load Audio and append to train/test list\n",
    "    try:\n",
    "        audio, fs = librosa.load(file)\n",
    "        y_correct_length = adjust_length(audio,sr*length)                  #truncate or pad signals to desired length (1s)\n",
    "        y_spectrogram = preprocess(y_correct_length, sr, nfft)             #normalise audio data so it peaks at 1\n",
    "        feature = torch.from_numpy(y_spectrogram).float().squeeze(-1)      #add 1 dimension to start\n",
    "        \n",
    "        if train:\n",
    "            train_files.append(file)\n",
    "            train_features.append(feature)\n",
    "            train_labels.append(label)\n",
    "        elif val:\n",
    "            val_files.append(file)\n",
    "            val_features.append(feature)\n",
    "            val_labels.append(label)\n",
    "        else:\n",
    "            test_files.append(audio)\n",
    "            test_features.append(feature)\n",
    "            test_labels.append(label)\n",
    "            \n",
    "    except Exception as e:\n",
    "        print(f'Error {e}: {file} not loaded')\n",
    "    \n",
    "#Checks: length of training, validation and test sets are as expected\n",
    "print(f\"Train files: {len(train_files)}, Validation files: {len(val_files)}, Test files: {len(test_files)}\")    \n",
    "\n",
    "train_features = torch.stack(train_features).float()    #convert list into float32 torch tensor\n",
    "val_features = torch.stack(val_features).float()        #convert list into float32 torch tensor\n",
    "test_features = torch.stack(test_features).float()      #convert list into float32 torch tensor\n",
    "\n",
    "#Check: print length and size of training, valildation and testing features \n",
    "print(f\"Train Features: {len(train_features)}, Validation Features: {len(val_features)}, Test Features: {len(test_features)}\")\n",
    "print(f\"Train Features: {(train_features.shape)}, Validation Features: {val_features.shape}, Test Features: {test_features.shape}\")"
   ]
  },
  {
   "cell_type": "code",
   "execution_count": 22,
   "id": "abc8bf46-0f91-43e8-99a7-a5362f30f9eb",
   "metadata": {
    "collapsed": false,
    "jupyter": {
     "outputs_hidden": false
    }
   },
   "outputs": [],
   "source": [
    "class AudioDataSet(Dataset):              # Don't change this line\n",
    "    def __init__(self, features, labels): # Don't change this line\n",
    "        self.features = (features)              #save features to class\n",
    "        self.labels = (labels)                  #save labels to class\n",
    "        \n",
    "    def __getitem__(self, i):             # Don't change this line\n",
    "        return self.features[i], self.labels[i] #return requested features and labels\n",
    " \n",
    "    def __len__(self):                    # Don't change this line\n",
    "        return len(self.features)               #return length of features"
   ]
  },
  {
   "cell_type": "code",
   "execution_count": 23,
   "id": "9538ed93-4e53-4adb-952d-a780005eff4b",
   "metadata": {},
   "outputs": [],
   "source": [
    "class ConvBlock(torch.nn.Module):                       # Don't change this line\n",
    "    def __init__(self, in_channels, out_channels, kernel_size, activation):          \n",
    "        super(ConvBlock, self).__init__()               # Don't change this line\n",
    "        self.conv = nn.Conv1d(in_channels, out_channels, kernel_size)   #1D convolution layer\n",
    "        if activation == 1:\n",
    "            self.act = nn.ReLU()                                        #non linear activation function layer\n",
    "        elif activation == 2:\n",
    "            self.act = nn.Sigmoid()                                     #sigmoid sctivation function layer\n",
    "        elif activation == 3:\n",
    "            self.act = nn.Tanh()                                        #tanh activation function layer\n",
    "        else:\n",
    "            assert('Incorrect activation function index')\n",
    "                                                           \n",
    "    def forward(self, x):                               # Don't change this line\n",
    "        x = self.conv(x)                #apply 1d convolution layer\n",
    "        x = self.act(x)                 #apply activation function layer\n",
    "        return x                        #return the output from the block"
   ]
  },
  {
   "cell_type": "code",
   "execution_count": 24,
   "id": "88378caf-4227-4f4c-bf83-f495e158ff55",
   "metadata": {},
   "outputs": [],
   "source": [
    "class ConvNet(torch.nn.Module):                         # Don't change this line\n",
    "    def __init__(self, in_channels, out_channels, kernel_size, num_blocks, num_classes,activation,pool):   # Add arguments to the constructor method of your Class\n",
    "        super(ConvNet, self).__init__()                 # Don't change this line\n",
    "        self.conv_blocks = nn.ModuleList()              #initialise class variable for the network's structure\n",
    "                                                                                                \n",
    "        for block in range(num_blocks):                                                         #every block\n",
    "            self.conv_blocks.append(ConvBlock(in_channels,out_channels,kernel_size,activation)) #add the block to the architecture\n",
    "            in_channels = out_channels                                                          #set the number of input channels for the next block to be the size of the output channels of current block\n",
    "\n",
    "        if pool == 1:\n",
    "            self.pooling = nn.AdaptiveAvgPool1d(1)      #create global average pooling layer \n",
    "        elif pool == 2:\n",
    "            self.pooling = nn.AdaptiveMaxPool1d(1)      #create global maximum pooling layer \n",
    "        else:\n",
    "            assert('Incorrect pooling index')\n",
    "\n",
    "        self.linear_layer = nn.Linear(out_channels,num_classes)    #create linear layer for output\n",
    "\n",
    "    def forward(self, x):                               # Don't change this line\n",
    "        for conv_block in self.conv_blocks:             #every block\n",
    "            x = conv_block(x)                           #apply convolutional block\n",
    "\n",
    "        x = self.pooling(x)                             #apply global average pooling\n",
    "        x = x.squeeze(-1)                               #remove extra dimension \n",
    "        x = self.linear_layer(x)                        #apply linear layer\n",
    "      \n",
    "        return x "
   ]
  },
  {
   "cell_type": "code",
   "execution_count": 25,
   "id": "673cabfd-1759-4615-a799-a388886807ae",
   "metadata": {},
   "outputs": [],
   "source": [
    "def train_loop(model, train_loader, optimiser, BCEloss, num_epochs=100):\n",
    "    train_losses = []                                       #initialise training losses list\n",
    "    \n",
    "    for epoch in range(num_epochs):\n",
    "        train_loss = 0.0                                    #initialise the training loss\n",
    "        for batch in train_loader:\n",
    "            features, labels = batch                        #find features and labels in batch\n",
    "            features = features.squeeze(1)                  #remove extra dimension\n",
    "            optimiser.zero_grad()                           #zero gradient optimiser\n",
    "            \n",
    "            output = model(features)                        #compute model's predictions\n",
    "            loss = BCEloss(output, labels)                  #calculate training loss\n",
    "            \n",
    "            loss.backward()                                 #backward propagation\n",
    "            optimiser.step()                                #update the NN's parameters\n",
    "            train_loss += loss.item()                       #add the iteration's loss to a counter\n",
    "                                                            \n",
    "        avg_loss = train_loss/len(train_loader)             #calculate average loss\n",
    "        train_losses.append(avg_loss)                       #add average loss to list"
   ]
  },
  {
   "cell_type": "code",
   "execution_count": 26,
   "id": "e4e8871e-8526-4e62-aa1b-b5ca30d7c727",
   "metadata": {},
   "outputs": [],
   "source": [
    "def validate_loop(model, val_loader, BCEloss, num_epochs):\n",
    "    model.eval()\n",
    "    val_losses, val_accs = [], []                            #initialise lists for validation losses and validation accuracies\n",
    "    correct_pred, total_pred = 0, 0                          #initialise counter for total predictions and amount of correct predictions\n",
    "\n",
    "    with torch.no_grad():\n",
    "        for epoch in range(0, num_epochs, 5):                    #for every 5 iterations\n",
    "            val_loss = 0.0                                       #initialise validation loss\n",
    "    \n",
    "            for batch in val_loader:      \n",
    "                features, labels = batch                         #find features and labels in batch\n",
    "                features = features.squeeze(1)                   #remove extra dimension\n",
    "                \n",
    "                output = model(features)                         #compute model's predictions\n",
    "                loss = BCEloss(output, labels)                   #calculate validation loss\n",
    "                val_loss += loss.item()                          #add validation loss list with loss\n",
    "        \n",
    "                _, pred = torch.max(output, 1)                   #pred = index of the features maximum (class labels), ignoring maximum value (_)\n",
    "                correct_pred += (pred == labels).sum().item()    #add to counter if the prediction is equal to the label\n",
    "                total_pred += labels.size(0)                     #add to counter of total predictions\n",
    "    \n",
    "        avg_loss = val_loss/len(val_loader)              #calculate average loss\n",
    "        acc = correct_pred/total_pred                    #calculate accuracy  \n",
    "            \n",
    "        val_losses.append(avg_loss)                      #add average loss to the validation loss list\n",
    "        val_accs.append(acc*100)                         #add accuracy to the validation accuracy list\n",
    "\n",
    "#Output: print overall accuracy and loss from testing set\n",
    "        print(f'Validation loss: {avg_loss:.3f}, Validation Accuracy: {acc*100:.1f}%')"
   ]
  },
  {
   "cell_type": "code",
   "execution_count": 27,
   "id": "4df9da25-94f8-4d07-a8e5-0c29f321465a",
   "metadata": {},
   "outputs": [],
   "source": [
    "def test_loop(model, test_loader, BCEloss):\n",
    "    model.eval()\n",
    "    test_loss = 0.0                                          #initialise test loss\n",
    "    correct_pred, total_pred = 0, 0                          #initialise counter for total predictions and amount of correct predictions\n",
    "    test_labels, test_preds = [], []                         #initialise lists for test labels and test predictions\n",
    "\n",
    "    with torch.no_grad():\n",
    "        for batch in test_loader:\n",
    "            features, labels = batch                             #find features and labels in batch\n",
    "            features = features.squeeze(1)                       #remove extra dimension\n",
    "            \n",
    "            output = model(features)                             #compute model's predictions\n",
    "            loss = BCEloss(output, labels)                       #calculate test loss \n",
    "            test_loss += loss.item()                             #add test loss list with loss\n",
    "    \n",
    "            _, pred = torch.max(output, 1)                       #pred = index of the features maximum (class labels), ignoring maximum value (_)\n",
    "            correct_pred += (pred == labels).sum().item()        #add to counter if the prediction is equal to the label\n",
    "            total_pred += labels.size(0)                         #add to counter of total predictions\n",
    "    \n",
    "            test_labels.extend(labels.numpy())                   #add correct predictions to list\n",
    "            test_preds.extend(pred.numpy())                      #add model predictions to list \n",
    "            \n",
    "    avg_loss = test_loss/len(test_loader)                #calculate average loss\n",
    "    acc = correct_pred/total_pred                        #calculate accuracy  \n",
    "\n",
    "#Output: print overall accuracy and loss from testing set\n",
    "    print(f'Testing loss: {avg_loss:.3f}, Testing Accuracy: {acc*100:.1f}%')\n",
    "   \n",
    "    return test_labels, test_preds"
   ]
  },
  {
   "cell_type": "code",
   "execution_count": 28,
   "id": "01ca6b53-eaa1-4b9e-bd1d-98dbf905a80d",
   "metadata": {},
   "outputs": [
    {
     "name": "stdout",
     "output_type": "stream",
     "text": [
      "Model training with: 6 blocks, ReLU Activation, Adaptive Average Pooling and Adam Optimiser for 100 epochs.\n",
      "Validation loss: 6.342, Validation Accuracy: 49.0%\n",
      "Testing loss: 2.472, Testing Accuracy: 53.0%\n"
     ]
    },
    {
     "data": {
      "image/png": "[encoded data removed]",
      "text/plain": [
       "<Figure size 640x480 with 2 Axes>"
      ]
     },
     "metadata": {},
     "output_type": "display_data"
    }
   ],
   "source": [
    "batch_size = 50\n",
    "\n",
    "train_dataset = AudioDataSet(train_features, train_labels)                      #create training dataset and labels\n",
    "train_loader = DataLoader(train_dataset, batch_size=batch_size, shuffle=True)   #load training dataset in batches of 50 samples\n",
    "                                                                        \n",
    "val_dataset = AudioDataSet(val_features, val_labels)                            #create validation dataset and labels\n",
    "val_loader = DataLoader(val_dataset, batch_size=batch_size, shuffle=False)      #load validation dataset in batches of 50 samples\n",
    "\n",
    "test_dataset = AudioDataSet(test_features, test_labels)                         #create test dataset and labels\n",
    "test_loader = DataLoader(test_dataset, batch_size=batch_size, shuffle=False)    #load test dataset in batches of 50 samples\n",
    "\n",
    "#User defined parameters\n",
    "num_blocks = 6       #number of blocks \n",
    "activation = 1       #1:ReLU    2:Sigmoid    3:Tanh \n",
    "pool = 1             #1:Average 2:Maximum\n",
    "optimiser = 1        #1:Adam    2:SGD\n",
    "\n",
    "model = ConvNet(in_channels=128, out_channels=16, kernel_size=3, num_blocks=num_blocks, num_classes=10, activation=activation, pool=pool)     #create instance of CNN\n",
    "\n",
    "if optimiser == 1:\n",
    "    optimiser = torch.optim.Adam(model.parameters())                   #create instance of Adam optimiser\n",
    "    func3 = \"Adam\"\n",
    "elif optimiser == 2:\n",
    "    optimiser = torch.optim.SGD(model.parameters())                    #create instance of SGD optimiser\n",
    "    func3 = \"SGD\"\n",
    "else:\n",
    "    assert('Incorrect optimiser index')\n",
    "\n",
    "BCEloss = nn.CrossEntropyLoss()                                         #create instance of Binary Cross Entropy loss\n",
    "num_epochs = 100                                                        #number of iterations/epochs\n",
    "\n",
    "if activation == 1:\n",
    "    func = \"ReLU\"\n",
    "elif activation == 2:\n",
    "    func = \"Sigmoid\"\n",
    "elif activation == 3:\n",
    "    func = \"Tanh\"\n",
    "\n",
    "if pool == 1:\n",
    "    func2 = \"Average\"\n",
    "elif pool == 2:\n",
    "    func2 = \"Maximum\"\n",
    "    \n",
    "print(f\"Model training with: {num_blocks} blocks, {func} Activation, Adaptive {func2} Pooling and {func3} Optimiser for {num_epochs} epochs.\")\n",
    "\n",
    "train_loop(model, train_loader, optimiser, BCEloss, num_epochs)         #run training loop for 100 epochs\n",
    "validate_loop(model, val_loader, BCEloss, num_epochs)                   #run validation loop\n",
    "test_labels, test_preds = test_loop(model, test_loader, BCEloss)        #run testing loop\n",
    "                                                                         \n",
    "matrix = sklearn.metrics.confusion_matrix(test_labels,test_preds)   #create confusion matrix using testing dataset\n",
    "disp = sklearn.metrics.ConfusionMatrixDisplay(matrix)               #add matrix to displayable plot variable\n",
    "\n",
    "#Output: display confusion matrix and save figure to file\n",
    "disp.plot()                \n",
    "#plt.savefig('GenreClassifierCustomisable.png')\n",
    "plt.savefig(f'Testing{num_blocks},{func},{func2},{func3},{num_epochs}.png')"
   ]
  },
  {
   "cell_type": "code",
   "execution_count": null,
   "id": "b3ee91af-80a6-4910-a11d-aae88f421463",
   "metadata": {},
   "outputs": [],
   "source": []
  }
 ],
 "metadata": {
  "kernelspec": {
   "display_name": "Python 3 (ipykernel)",
   "language": "python",
   "name": "python3"
  },
  "language_info": {
   "codemirror_mode": {
    "name": "ipython",
    "version": 3
   },
   "file_extension": ".py",
   "mimetype": "text/x-python",
   "name": "python",
   "nbconvert_exporter": "python",
   "pygments_lexer": "ipython3",
   "version": "3.11.10"
  }
 },
 "nbformat": 4,
 "nbformat_minor": 5
}
