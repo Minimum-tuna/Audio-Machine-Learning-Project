{
 "cells": [
  {
   "cell_type": "code",
   "id": "e8a58108-7e4b-4398-9d1e-02b5cce2fdbb",
   "metadata": {
    "ExecuteTime": {
     "end_time": "2025-04-11T11:04:51.437818Z",
     "start_time": "2025-04-11T11:04:51.426294Z"
    }
   },
   "source": "#CNN giving options for the user to change number of blocks, activation function, optimiser and pooling type",
   "outputs": [],
   "execution_count": 1
  },
  {
   "cell_type": "code",
   "id": "737c8fbd-ff42-45df-bb34-87a54f903429",
   "metadata": {
    "collapsed": false,
    "jupyter": {
     "outputs_hidden": false
    },
    "ExecuteTime": {
     "end_time": "2025-04-11T11:05:23.420148Z",
     "start_time": "2025-04-11T11:04:51.464351Z"
    }
   },
   "source": [
    "%pip install librosa\n",
    "import torch\n",
    "import torch.nn as nn\n",
    "import numpy as np\n",
    "import matplotlib.pyplot as plt\n",
    "import librosa\n",
    "from glob import glob\n",
    "from torch.utils.data import Dataset, DataLoader\n",
    "import sklearn.metrics\n",
    "import wandb"
   ],
   "outputs": [
    {
     "name": "stdout",
     "output_type": "stream",
     "text": [
      "Requirement already satisfied: librosa in c:\\users\\clara\\anaconda3\\lib\\site-packages (0.10.2.post1)\n",
      "Requirement already satisfied: audioread>=2.1.9 in c:\\users\\clara\\anaconda3\\lib\\site-packages (from librosa) (3.0.1)\n",
      "Requirement already satisfied: numpy!=1.22.0,!=1.22.1,!=1.22.2,>=1.20.3 in c:\\users\\clara\\anaconda3\\lib\\site-packages (from librosa) (1.26.4)\n",
      "Requirement already satisfied: scipy>=1.2.0 in c:\\users\\clara\\anaconda3\\lib\\site-packages (from librosa) (1.13.1)\n",
      "Requirement already satisfied: scikit-learn>=0.20.0 in c:\\users\\clara\\anaconda3\\lib\\site-packages (from librosa) (1.5.1)\n",
      "Requirement already satisfied: joblib>=0.14 in c:\\users\\clara\\anaconda3\\lib\\site-packages (from librosa) (1.4.2)\n",
      "Requirement already satisfied: decorator>=4.3.0 in c:\\users\\clara\\anaconda3\\lib\\site-packages (from librosa) (5.1.1)\n",
      "Requirement already satisfied: numba>=0.51.0 in c:\\users\\clara\\anaconda3\\lib\\site-packages (from librosa) (0.60.0)\n",
      "Requirement already satisfied: soundfile>=0.12.1 in c:\\users\\clara\\anaconda3\\lib\\site-packages (from librosa) (0.13.1)\n",
      "Requirement already satisfied: pooch>=1.1 in c:\\users\\clara\\anaconda3\\lib\\site-packages (from librosa) (1.8.2)\n",
      "Requirement already satisfied: soxr>=0.3.2 in c:\\users\\clara\\anaconda3\\lib\\site-packages (from librosa) (0.5.0.post1)\n",
      "Requirement already satisfied: typing-extensions>=4.1.1 in c:\\users\\clara\\anaconda3\\lib\\site-packages (from librosa) (4.11.0)\n",
      "Requirement already satisfied: lazy-loader>=0.1 in c:\\users\\clara\\anaconda3\\lib\\site-packages (from librosa) (0.4)\n",
      "Requirement already satisfied: msgpack>=1.0 in c:\\users\\clara\\anaconda3\\lib\\site-packages (from librosa) (1.0.3)\n",
      "Requirement already satisfied: packaging in c:\\users\\clara\\anaconda3\\lib\\site-packages (from lazy-loader>=0.1->librosa) (24.1)\n",
      "Requirement already satisfied: llvmlite<0.44,>=0.43.0dev0 in c:\\users\\clara\\anaconda3\\lib\\site-packages (from numba>=0.51.0->librosa) (0.43.0)\n",
      "Requirement already satisfied: platformdirs>=2.5.0 in c:\\users\\clara\\anaconda3\\lib\\site-packages (from pooch>=1.1->librosa) (3.10.0)\n",
      "Requirement already satisfied: requests>=2.19.0 in c:\\users\\clara\\anaconda3\\lib\\site-packages (from pooch>=1.1->librosa) (2.32.3)\n",
      "Requirement already satisfied: threadpoolctl>=3.1.0 in c:\\users\\clara\\anaconda3\\lib\\site-packages (from scikit-learn>=0.20.0->librosa) (3.5.0)\n",
      "Requirement already satisfied: cffi>=1.0 in c:\\users\\clara\\anaconda3\\lib\\site-packages (from soundfile>=0.12.1->librosa) (1.17.1)\n",
      "Requirement already satisfied: pycparser in c:\\users\\clara\\anaconda3\\lib\\site-packages (from cffi>=1.0->soundfile>=0.12.1->librosa) (2.21)\n",
      "Requirement already satisfied: charset-normalizer<4,>=2 in c:\\users\\clara\\anaconda3\\lib\\site-packages (from requests>=2.19.0->pooch>=1.1->librosa) (3.3.2)\n",
      "Requirement already satisfied: idna<4,>=2.5 in c:\\users\\clara\\anaconda3\\lib\\site-packages (from requests>=2.19.0->pooch>=1.1->librosa) (3.7)\n",
      "Requirement already satisfied: urllib3<3,>=1.21.1 in c:\\users\\clara\\anaconda3\\lib\\site-packages (from requests>=2.19.0->pooch>=1.1->librosa) (2.2.3)\n",
      "Requirement already satisfied: certifi>=2017.4.17 in c:\\users\\clara\\anaconda3\\lib\\site-packages (from requests>=2.19.0->pooch>=1.1->librosa) (2025.1.31)\n",
      "Note: you may need to restart the kernel to use updated packages.\n"
     ]
    }
   ],
   "execution_count": 2
  },
  {
   "metadata": {
    "ExecuteTime": {
     "end_time": "2025-04-11T11:05:23.946342Z",
     "start_time": "2025-04-11T11:05:23.675726Z"
    }
   },
   "cell_type": "code",
   "source": "%wandb login",
   "id": "36bc1ab20d7ffd52",
   "outputs": [
    {
     "data": {
      "text/plain": [
       "<wandb.jupyter.IFrame at 0x2363a4136e0>"
      ],
      "text/html": [
       "<iframe src='https://wandb.ai/jazz-54-hate-club/login/workspace?jupyter=true' style='border:none;width:100%;height:420px;'></iframe>"
      ]
     },
     "metadata": {},
     "output_type": "display_data"
    }
   ],
   "execution_count": 3
  },
  {
   "cell_type": "code",
   "id": "cf10d516-dd0a-4753-ae8a-2bfc37fd254c",
   "metadata": {
    "collapsed": false,
    "jupyter": {
     "outputs_hidden": false
    },
    "ExecuteTime": {
     "end_time": "2025-04-11T11:05:24.002834Z",
     "start_time": "2025-04-11T11:05:23.991810Z"
    }
   },
   "source": [
    "def adjust_length(audio_data, target_length):                           \n",
    "    if len(audio_data) < target_length:                                 #when audio is shorter than target\n",
    "        padding = target_length-len(audio_data)                         #caclulated desired padding\n",
    "        adjusted_audio = np.concatenate((audio_data,np.zeros(padding))) #add padding to file\n",
    "    elif len(audio_data) > target_length:                               #when audio is longer than target\n",
    "        adjusted_audio = audio_data[:target_length]                     #only take the portion of the audio up till the target\n",
    "    else:                                                               #when audio is the target length\n",
    "        adjusted_audio = audio_data                                     #keep the original audio and don't truncate or pad\n",
    "                                                                        \n",
    "    return adjusted_audio                                               #return the truncated or padded signal with the exact target length"
   ],
   "outputs": [],
   "execution_count": 4
  },
  {
   "cell_type": "code",
   "id": "33124307-2c85-44ff-b21d-5e698bf8eacf",
   "metadata": {
    "ExecuteTime": {
     "end_time": "2025-04-11T11:40:09.478078Z",
     "start_time": "2025-04-11T11:40:09.467720Z"
    }
   },
   "source": [
    "def preprocess(audio_data, sample_rate, nfft):    \n",
    "    max_value = np.max(np.abs(audio_data))  #calculate the maximum amplitude within the file\n",
    "                                            \n",
    "    if max_value > 0:                       #for files with audio\n",
    "        normalised = audio_data/max_value   #divide so that the maximum amplitude is 1\n",
    "    else:                                   #if audio is silent\n",
    "        normalised = audio_data             #don't try to normalise it!\n",
    "\n",
    "    spectrogram = librosa.feature.melspectrogram(y=normalised, sr=sample_rate, n_fft=nfft) #compute the spectrogram with a small n_fft as the files are very short lengths\n",
    "    #spectrogram = librosa.feature.stft(y=normalised, n_fft=2048, hop_length=512) #short time fourier transform as a feature\n",
    "    zcr_feature = librosa.feature.zero_crossing_rate(y=normalised)\n",
    "\n",
    "\n",
    "    return spectrogram, zcr_feature                      #return the calculated spectrogram data"
   ],
   "outputs": [],
   "execution_count": 19
  },
  {
   "cell_type": "code",
   "id": "88945b01-c2c2-4215-98db-835157aaa518",
   "metadata": {
    "collapsed": false,
    "editable": true,
    "jupyter": {
     "outputs_hidden": false
    },
    "slideshow": {
     "slide_type": ""
    },
    "tags": [],
    "ExecuteTime": {
     "end_time": "2025-04-11T11:42:02.822002Z",
     "start_time": "2025-04-11T11:40:10.079670Z"
    }
   },
   "source": [
    "train_files, val_files, test_files = [], [], []\n",
    "train_features, val_features, test_features = [], [], []\n",
    "train_labels, val_labels, test_labels = [], [], []\n",
    "\n",
    "sr = 22050  #sample rate [Hz] as specified \n",
    "length = 30  #length of audio [s] as specified\n",
    "nfft = 2048 #fast fourier transform length\n",
    "\n",
    "for file in glob('Data/genres_original/**/*.wav', recursive=True):\n",
    "    file_name = file.split('/')[-1]\n",
    "\n",
    "    if 'blues' in file_name:\n",
    "        label = 0\n",
    "    elif 'classical' in file_name:\n",
    "        label = 1\n",
    "    elif 'country' in file_name:\n",
    "        label = 2\n",
    "    elif 'disco' in file_name:\n",
    "        label = 3\n",
    "    elif 'hiphop' in file_name:\n",
    "        label = 4\n",
    "    elif 'jazz' in file_name:\n",
    "        label = 5\n",
    "    elif 'metal' in file_name:\n",
    "        label = 6\n",
    "    elif 'pop' in file_name:\n",
    "        label = 7 \n",
    "    elif 'reggae' in file_name:\n",
    "        label = 8\n",
    "    elif 'rock' in file_name:\n",
    "        label = 9\n",
    "    else:\n",
    "        assert(f'{file} is the wrong format. L.')\n",
    "\n",
    "    id = int(file_name.split('.')[1])\n",
    "    \n",
    "    #train = True if (id < 80 or label == 9) else False # Train/Test Split 80/20 not including rock genre\n",
    "    #val = True if  (80 <= id < 90 or label == 9) else False\n",
    "\n",
    "    train = True if id < 80 else False # Train/Test Split 80/20 not including rock genre\n",
    "    val = True if  80 <= id < 90 else False\n",
    "    \n",
    "    # Load Audio and append to train/test list\n",
    "    try:\n",
    "        audio, fs = librosa.load(file)\n",
    "        y_correct_length = adjust_length(audio,sr*length)                  #truncate or pad signals to desired length (1s)\n",
    "        y_spectrogram, zcr_feature = preprocess(y_correct_length, sr, nfft)             #normalise audio data so it peaks at 1\n",
    "        feature_1 = torch.from_numpy(y_spectrogram).float().squeeze(-1)      #add 1 dimension to start\n",
    "        feature_2 = torch.from_numpy(zcr_feature).float().squeeze(-1)\n",
    "        feature = torch.cat((feature_1, feature_2), dim=0)                   #join the features into one feature vector\n",
    "\n",
    "        if train:\n",
    "            train_files.append(file)\n",
    "            train_features.append(feature)\n",
    "            train_labels.append(label)\n",
    "        elif val:\n",
    "            val_files.append(file)\n",
    "            val_features.append(feature)\n",
    "            val_labels.append(label)\n",
    "        else:\n",
    "            test_files.append(audio)\n",
    "            test_features.append(feature)\n",
    "            test_labels.append(label)\n",
    "            \n",
    "    except Exception as e:\n",
    "        print(f'Error{e}: {file} not loaded')\n",
    "    \n",
    "#Checks: length of training, validation and test sets are as expected\n",
    "print(f\"Train files: {len(train_files)}, Validation files: {len(val_files)}, Test files: {len(test_files)}\")    \n",
    "\n",
    "train_features = torch.stack(train_features).float()    #convert list into float32 torch tensor\n",
    "val_features = torch.stack(val_features).float()        #convert list into float32 torch tensor\n",
    "test_features = torch.stack(test_features).float()      #convert list into float32 torch tensor\n",
    "\n",
    "#Check: print length and size of training, validation and testing features\n",
    "print(f\"Train Features: {len(train_features)}, Validation Features: {len(val_features)}, Test Features: {len(test_features)}\")\n",
    "print(f\"Train Features: {train_features.shape}, Validation Features: {val_features.shape}, Test Features: {test_features.shape}\")"
   ],
   "outputs": [
    {
     "name": "stderr",
     "output_type": "stream",
     "text": [
      "C:\\Users\\clara\\AppData\\Local\\Temp\\ipykernel_70572\\3381014118.py:45: UserWarning: PySoundFile failed. Trying audioread instead.\n",
      "  audio, fs = librosa.load(file)\n"
     ]
    },
    {
     "name": "stdout",
     "output_type": "stream",
     "text": [
      "Error: Data/genres_original\\jazz\\jazz.00054.wav not loaded\n",
      "Train files: 799, Validation files: 100, Test files: 100\n",
      "Train Features: 799, Validation Features: 100, Test Features: 100\n",
      "Train Features: torch.Size([799, 129, 1292]), Validation Features: torch.Size([100, 129, 1292]), Test Features: torch.Size([100, 129, 1292])\n"
     ]
    }
   ],
   "execution_count": 20
  },
  {
   "cell_type": "code",
   "id": "abc8bf46-0f91-43e8-99a7-a5362f30f9eb",
   "metadata": {
    "collapsed": false,
    "jupyter": {
     "outputs_hidden": false
    },
    "ExecuteTime": {
     "end_time": "2025-04-11T11:42:02.919993Z",
     "start_time": "2025-04-11T11:42:02.906776Z"
    }
   },
   "source": [
    "class AudioDataSet(Dataset):              # Don't change this line\n",
    "    def __init__(self, features, labels): # Don't change this line\n",
    "        self.features = (features)              #save features to class\n",
    "        self.labels = (labels)                  #save labels to class\n",
    "        \n",
    "    def __getitem__(self, i):             # Don't change this line\n",
    "        return self.features[i], self.labels[i] #return requested features and labels\n",
    " \n",
    "    def __len__(self):                    # Don't change this line\n",
    "        return len(self.features)               #return length of features"
   ],
   "outputs": [],
   "execution_count": 21
  },
  {
   "cell_type": "code",
   "id": "9538ed93-4e53-4adb-952d-a780005eff4b",
   "metadata": {
    "ExecuteTime": {
     "end_time": "2025-04-11T11:42:02.958192Z",
     "start_time": "2025-04-11T11:42:02.944396Z"
    }
   },
   "source": [
    "class ConvBlock(torch.nn.Module):                       # Don't change this line\n",
    "    def __init__(self, in_channels, out_channels, kernel_size, activation):\n",
    "        super(ConvBlock, self).__init__()               # Don't change this line\n",
    "        self.conv = nn.Conv1d(in_channels, out_channels, kernel_size)   #1D convolution layer\n",
    "        if activation == 1:\n",
    "            self.act = nn.ReLU()                                        #non-linear activation function layer\n",
    "        elif activation == 2:\n",
    "            self.act = nn.Sigmoid()                                     #sigmoid activation function layer\n",
    "        elif activation == 3:\n",
    "            self.act = nn.Tanh()                                        #tanh activation function layer\n",
    "        else:\n",
    "            assert'Incorrect activation function index'\n",
    "                                                           \n",
    "    def forward(self, x):                               # Don't change this line\n",
    "        x = self.conv(x)                #apply 1d convolution layer\n",
    "        x = self.act(x)                 #apply activation function layer\n",
    "        return x                        #return the output from the block"
   ],
   "outputs": [],
   "execution_count": 22
  },
  {
   "cell_type": "code",
   "id": "88378caf-4227-4f4c-bf83-f495e158ff55",
   "metadata": {
    "ExecuteTime": {
     "end_time": "2025-04-11T11:42:03.060037Z",
     "start_time": "2025-04-11T11:42:03.042070Z"
    }
   },
   "source": [
    "class ConvNet(torch.nn.Module):                         # Don't change this line\n",
    "    def __init__(self, in_channels, out_channels, kernel_size, num_blocks, num_classes,activation,pool,dropout):   # Add arguments to the constructor method of your Class\n",
    "        super(ConvNet, self).__init__()                 # Don't change this line\n",
    "        self.conv_blocks = nn.ModuleList()              #initialise class variable for the network's structure\n",
    "                                                                                                \n",
    "        for block in range(num_blocks):                                                         #every block\n",
    "            self.conv_blocks.append(ConvBlock(in_channels,out_channels,kernel_size,activation)) #add the block to the architecture\n",
    "            in_channels = out_channels                                                          #set the number of input channels for the next block to be the size of the output channels of current block\n",
    "\n",
    "        if pool == 1:\n",
    "            self.pooling = nn.AdaptiveAvgPool1d(1)      #create global average pooling layer \n",
    "        elif pool == 2:\n",
    "            self.pooling = nn.AdaptiveMaxPool1d(1)      #create global maximum pooling layer \n",
    "        else:\n",
    "            assert'Incorrect pooling index'\n",
    "\n",
    "        self.linear_layer = nn.Linear(out_channels,num_classes)    #create linear layer for output\n",
    "        self.dropout = nn.Dropout(p=dropout)\n",
    "\n",
    "    def forward(self, x):                               # Don't change this line\n",
    "        for conv_block in self.conv_blocks:             #every block\n",
    "            x = conv_block(x)                           #apply convolutional block\n",
    "            x = self.dropout(x)\n",
    "\n",
    "        x = self.pooling(x)                             #apply global average pooling\n",
    "        x = x.squeeze(-1)                               #remove extra dimension \n",
    "        x = self.linear_layer(x)                        #apply linear layer\n",
    "\n",
    "        return x"
   ],
   "outputs": [],
   "execution_count": 23
  },
  {
   "cell_type": "code",
   "id": "673cabfd-1759-4615-a799-a388886807ae",
   "metadata": {
    "ExecuteTime": {
     "end_time": "2025-04-11T11:42:03.152755Z",
     "start_time": "2025-04-11T11:42:03.133965Z"
    }
   },
   "source": [
    "def train_loop(model, train_loader, optimiser, BCEloss, num_epochs):\n",
    "    train_losses = []                                       #initialise training losses list\n",
    "    \n",
    "    for epoch in range(num_epochs):\n",
    "        train_loss = 0.0                                    #initialise the training loss\n",
    "        for batch in train_loader:\n",
    "            features, labels = batch                        #find features and labels in batch\n",
    "            features = features.squeeze(1)                  #remove extra dimension\n",
    "            optimiser.zero_grad()                           #zero gradient optimiser\n",
    "            \n",
    "            output = model(features)                        #compute model's predictions\n",
    "            loss = BCEloss(output, labels)                  #calculate training loss\n",
    "            \n",
    "            loss.backward()                                 #backward propagation\n",
    "            optimiser.step()                                #update the NN's parameters\n",
    "            train_loss += loss.item()                       #add the iteration's loss to a counter\n",
    "                                                            \n",
    "        avg_loss = train_loss/len(train_loader)             #calculate average loss\n",
    "\n",
    "        print(f\"Epoch {epoch+1}/{num_epochs}\")\n",
    "        if epoch % 5 == 0:\n",
    "            validate_loop(model, val_loader, BCEloss)\n",
    "\n",
    "        wandb.log({\"Epoch: \": epoch, \"Training Loss: \": avg_loss})\n",
    "        train_losses.append(avg_loss)                       #add average loss to list"
   ],
   "outputs": [],
   "execution_count": 24
  },
  {
   "cell_type": "code",
   "id": "e4e8871e-8526-4e62-aa1b-b5ca30d7c727",
   "metadata": {
    "ExecuteTime": {
     "end_time": "2025-04-11T11:42:03.253547Z",
     "start_time": "2025-04-11T11:42:03.235788Z"
    }
   },
   "source": [
    "def validate_loop(model, val_loader, BCEloss):\n",
    "    model.eval()\n",
    "    val_losses, val_accs = [], []                            #initialise lists for validation losses and validation accuracies\n",
    "    correct_pred, total_pred = 0, 0                          #initialise counter for total predictions and amount of correct predictions\n",
    "\n",
    "    with torch.no_grad():\n",
    "        for epoch in range(0, num_epochs, 5):                    #for every 5 iterations\n",
    "            val_loss = 0.0                                       #initialise validation loss\n",
    "    \n",
    "            for batch in val_loader:      \n",
    "                features, labels = batch                         #find features and labels in batch\n",
    "                features = features.squeeze(1)                   #remove extra dimension\n",
    "                \n",
    "                output = model(features)                         #compute model's predictions\n",
    "                loss = BCEloss(output, labels)                   #calculate validation loss\n",
    "                val_loss += loss.item()                          #add validation loss list with loss\n",
    "        \n",
    "                _, pred = torch.max(output, 1)                   #pred = index of the features maximum (class labels), ignoring maximum value (_)\n",
    "                correct_pred += (pred == labels).sum().item()    #add to counter if the prediction is equal to the label\n",
    "                total_pred += labels.size(0)                     #add to counter of total predictions\n",
    "    \n",
    "        avg_loss = val_loss/len(val_loader)              #calculate average loss\n",
    "        acc = correct_pred/total_pred                    #calculate accuracy  \n",
    "            \n",
    "        val_losses.append(avg_loss)                      #add average loss to the validation loss list\n",
    "        val_accs.append(acc*100)                         #add accuracy to the validation accuracy list\n",
    "\n",
    "#Output: print overall accuracy and loss from testing set\n",
    "        print(f'Validation loss: {avg_loss:.3f}, Validation Accuracy: {acc*100:.1f}%')\n",
    "        wandb.log({\"Validation Loss\": avg_loss, \"Validation Accuracy\": acc*100})"
   ],
   "outputs": [],
   "execution_count": 25
  },
  {
   "cell_type": "code",
   "id": "4df9da25-94f8-4d07-a8e5-0c29f321465a",
   "metadata": {
    "ExecuteTime": {
     "end_time": "2025-04-11T11:42:03.352287Z",
     "start_time": "2025-04-11T11:42:03.333912Z"
    }
   },
   "source": [
    "def test_loop(model, test_loader, BCEloss):\n",
    "    model.eval()\n",
    "    test_loss = 0.0                                          #initialise test loss\n",
    "    correct_pred, total_pred = 0, 0                          #initialise counter for total predictions and amount of correct predictions\n",
    "    test_labels, test_preds = [], []                         #initialise lists for test labels and test predictions\n",
    "\n",
    "    with torch.no_grad():\n",
    "        for batch in test_loader:\n",
    "            features, labels = batch                             #find features and labels in batch\n",
    "            features = features.squeeze(1)                       #remove extra dimension\n",
    "            \n",
    "            output = model(features)                             #compute model's predictions\n",
    "            loss = BCEloss(output, labels)                       #calculate test loss \n",
    "            test_loss += loss.item()                             #add test loss list with loss\n",
    "    \n",
    "            _, pred = torch.max(output, 1)                       #pred = index of the features maximum (class labels), ignoring maximum value (_)\n",
    "            correct_pred += (pred == labels).sum().item()        #add to counter if the prediction is equal to the label\n",
    "            total_pred += labels.size(0)                         #add to counter of total predictions\n",
    "    \n",
    "            test_labels.extend(labels.numpy())                   #add correct predictions to list\n",
    "            test_preds.extend(pred.numpy())                      #add model predictions to list \n",
    "            \n",
    "    avg_loss = test_loss/len(test_loader)                #calculate average loss\n",
    "    acc = correct_pred/total_pred                        #calculate accuracy  \n",
    "\n",
    "#Output: print overall accuracy and loss from testing set\n",
    "    print(f'Testing loss: {avg_loss:.3f}, Testing Accuracy: {acc*100:.1f}%')\n",
    "    wandb.log({\"Test Accuracy\" : acc*100})\n",
    "    return test_labels, test_preds"
   ],
   "outputs": [],
   "execution_count": 26
  },
  {
   "cell_type": "code",
   "id": "01ca6b53-eaa1-4b9e-bd1d-98dbf905a80d",
   "metadata": {
    "jupyter": {
     "is_executing": true
    },
    "ExecuteTime": {
     "start_time": "2025-04-11T12:03:25.830146Z"
    }
   },
   "source": [
    "batch_size = 50\n",
    "\n",
    "train_dataset = AudioDataSet(train_features, train_labels)                      #create training dataset and labels\n",
    "train_loader = DataLoader(train_dataset, batch_size=batch_size, shuffle=True)   #load training dataset in batches of 50 samples\n",
    "                                                                        \n",
    "val_dataset = AudioDataSet(val_features, val_labels)                            #create validation dataset and labels\n",
    "val_loader = DataLoader(val_dataset, batch_size=batch_size, shuffle=False)      #load validation dataset in batches of 50 samples\n",
    "\n",
    "test_dataset = AudioDataSet(test_features, test_labels)                         #create test dataset and labels\n",
    "test_loader = DataLoader(test_dataset, batch_size=batch_size, shuffle=False)    #load test dataset in batches of 50 samples\n",
    "\n",
    "#User defined parameters\n",
    "num_blocks = 4          #number of blocks\n",
    "kernel_size = 3         #number of kernels\n",
    "num_epochs = 125        #number of epochs\n",
    "num_classes = 10        #number of classes\n",
    "activation = 3          #1:ReLU    2:Sigmoid    3:Tanh\n",
    "pool = 1                #1:Average 2:Maximum\n",
    "optimiser = 1           #1:Adam    2:SGD\n",
    "dropout = 0.25          #dropout rate\n",
    "learning_rate = 0.001   #learning rate\n",
    "\n",
    "modelType = 4        #1:Shared  2:Experimenting with structure 3:Experimenting with parameters #4:Compiling the group code\n",
    "\n",
    "if modelType == 1:\n",
    "    model = ConvNet(in_channels=128, out_channels=16, kernel_size=3, num_blocks=6, num_classes=10, activation=1, pool=1)     #create instance of CNN\n",
    "    func4 = \"BaseCode\"\n",
    "elif modelType == 4:\n",
    "    model = ConvNet(in_channels=129, out_channels=16, kernel_size=kernel_size, num_blocks=num_blocks, num_classes=num_classes, activation=activation, pool=pool, dropout=dropout)\n",
    "    func4 = \"GroupCodeEfforts\"\n",
    "else:\n",
    "    assert'Incorrect Model Type'\n",
    "\n",
    "if optimiser == 1:\n",
    "    optimiser = torch.optim.Adam(model.parameters(),lr=learning_rate)                   #create instance of Adam optimiser\n",
    "    func3 = \"Adam\"\n",
    "elif optimiser == 2:\n",
    "    optimiser = torch.optim.SGD(model.parameters())                    #create instance of SGD optimiser\n",
    "    func3 = \"SGD\"\n",
    "else:\n",
    "    assert'Incorrect optimiser index'\n",
    "\n",
    "BCEloss = nn.CrossEntropyLoss()                                         #create instance of Binary Cross Entropy loss\n",
    "\n",
    "if activation == 1:\n",
    "    func = \"ReLU\"\n",
    "elif activation == 2:\n",
    "    func = \"Sigmoid\"\n",
    "elif activation == 3:\n",
    "    func = \"Tanh\"\n",
    "\n",
    "if pool == 1:\n",
    "    func2 = \"Average\"\n",
    "elif pool == 2:\n",
    "    func2 = \"Maximum\"\n",
    "    \n",
    "print(f\"Model {func4} training with: {num_blocks} blocks, {func} Activation, Adaptive {func2} Pooling and {func3} Optimiser for {num_epochs} epochs and {kernel_size} kernels.\")\n",
    "\n",
    "my_config = {\"Number of blocks\" : num_blocks, \"Activation\" : activation, \"Optimiser\" : optimiser, \"Pooling\" : pool, \"Number of epochs\" : num_epochs, \"model\" : func4, \"Number of kernels\" : kernel_size, \"Dropout Rate\" : dropout}\n",
    "\n",
    "\n",
    "wandb.init(\n",
    "    project=\"Genre_classifier\",\n",
    "    entity=\"jazz-54-hate-club\",\n",
    "    reinit=True,\n",
    "    config=my_config,\n",
    "    name=(f\"GroupCompiledCode_{num_epochs}Epochs_{learning_rate}_{num_blocks}Blocks\")\n",
    ")\n",
    "\n",
    "\n",
    "train_loop(model, train_loader, optimiser, BCEloss, num_epochs)         #run training loop for 100 epochs\n",
    "test_labels, test_preds = test_loop(model, test_loader, BCEloss)        #run testing loop"
   ],
   "outputs": [
    {
     "name": "stdout",
     "output_type": "stream",
     "text": [
      "Model GroupCodeEfforts training with: 4 blocks, Tanh Activation, Adaptive Average Pooling and Adam Optimiser for 125 epochs and 3 kernels.\n"
     ]
    },
    {
     "data": {
      "text/plain": [
       "<IPython.core.display.HTML object>"
      ],
      "text/html": []
     },
     "metadata": {},
     "output_type": "display_data"
    }
   ],
   "execution_count": null
  },
  {
   "cell_type": "code",
   "id": "b3ee91af-80a6-4910-a11d-aae88f421463",
   "metadata": {
    "ExecuteTime": {
     "end_time": "2025-04-11T12:01:09.997359Z",
     "start_time": "2025-04-11T12:01:08.615216Z"
    }
   },
   "source": [
    "genres = [\"Blue\", \"Clas\", \"Coun\", \"Disc\", \"HipH\", \"Jazz\", \"Meta\", \"Pop\", \"Regg\", \"Rock\"]\n",
    "matrix = sklearn.metrics.confusion_matrix(test_labels,test_preds)   #create confusion matrix using testing dataset\n",
    "disp = sklearn.metrics.ConfusionMatrixDisplay(confusion_matrix=matrix, display_labels=genres)                            #add matrix to displayable plot variable\n",
    "\n",
    "#Output: display confusion matrix and save figure to file\n",
    "disp.plot()\n",
    "plt.savefig(f'CM_model{modelType}_{num_blocks}_{func}_{func2}_{func3}_{num_epochs}_{kernel_size}.png')\n",
    "\n",
    "matrix_save = wandb.plot.confusion_matrix(y_true=test_labels, preds=test_preds, class_names=genres)\n",
    "wandb.log({\"Confusion Matrix\": matrix_save})"
   ],
   "outputs": [
    {
     "data": {
      "text/plain": [
       "<Figure size 640x480 with 2 Axes>"
      ],
      "image/png": "[encoded data removed]"
     },
     "metadata": {},
     "output_type": "display_data"
    }
   ],
   "execution_count": 41
  },
  {
   "metadata": {
    "ExecuteTime": {
     "end_time": "2025-04-11T12:01:10.305967Z",
     "start_time": "2025-04-11T12:01:10.018328Z"
    }
   },
   "cell_type": "code",
   "source": [
    "#FOR EXPERIMENT\n",
    "report = sklearn.metrics.classification_report(test_labels,test_preds, target_names=genres)\n",
    "print(report)\n",
    "\n",
    "report_columns =  [\"Class\", \"Precision\", \"Recall\", \"F1-score\", \"Support\"]\n",
    "class_report = report.splitlines()\n",
    "\n",
    "report_table = []\n",
    "for line in class_report[2:(len(genres)+2)]:\n",
    "    report_table.append(line.split())\n",
    "\n",
    "wandb.log({\"Classification Report\": wandb.Table(data=report_table, columns=report_columns)})"
   ],
   "id": "5a1d6bcbeb84922b",
   "outputs": [
    {
     "name": "stdout",
     "output_type": "stream",
     "text": [
      "              precision    recall  f1-score   support\n",
      "\n",
      "        Blue       0.25      0.10      0.14        10\n",
      "        Clas       0.71      0.50      0.59        10\n",
      "        Coun       0.44      0.70      0.54        10\n",
      "        Disc       0.62      0.50      0.56        10\n",
      "        HipH       0.53      0.90      0.67        10\n",
      "        Jazz       0.64      0.90      0.75        10\n",
      "        Meta       0.70      0.70      0.70        10\n",
      "         Pop       1.00      0.80      0.89        10\n",
      "        Regg       0.80      0.40      0.53        10\n",
      "        Rock       0.55      0.60      0.57        10\n",
      "\n",
      "    accuracy                           0.61       100\n",
      "   macro avg       0.62      0.61      0.59       100\n",
      "weighted avg       0.62      0.61      0.59       100\n",
      "\n"
     ]
    }
   ],
   "execution_count": 42
  },
  {
   "metadata": {
    "ExecuteTime": {
     "end_time": "2025-04-08T11:16:00.365706Z",
     "start_time": "2025-04-08T11:16:00.358130Z"
    }
   },
   "cell_type": "code",
   "source": "",
   "id": "77454e0c41a13c77",
   "outputs": [],
   "execution_count": null
  },
  {
   "metadata": {},
   "cell_type": "code",
   "outputs": [],
   "execution_count": null,
   "source": "",
   "id": "51efdc406f068a40"
  }
 ],
 "metadata": {
  "kernelspec": {
   "display_name": "Python 3 (ipykernel)",
   "language": "python",
   "name": "python3"
  },
  "language_info": {
   "codemirror_mode": {
    "name": "ipython",
    "version": 3
   },
   "file_extension": ".py",
   "mimetype": "text/x-python",
   "name": "python",
   "nbconvert_exporter": "python",
   "pygments_lexer": "ipython3",
   "version": "3.11.10"
  }
 },
 "nbformat": 4,
 "nbformat_minor": 5
}
