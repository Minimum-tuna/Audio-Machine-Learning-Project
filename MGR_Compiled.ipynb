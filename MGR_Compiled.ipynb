{
 "cells": [
  {
   "cell_type": "code",
   "id": "e8a58108-7e4b-4398-9d1e-02b5cce2fdbb",
   "metadata": {
    "ExecuteTime": {
     "end_time": "2025-04-14T16:59:41.461715Z",
     "start_time": "2025-04-14T16:59:41.457208Z"
    }
   },
   "source": "#CNN giving options for the user to change number of blocks, activation function, optimiser and pooling type",
   "outputs": [],
   "execution_count": 2
  },
  {
   "cell_type": "code",
   "id": "737c8fbd-ff42-45df-bb34-87a54f903429",
   "metadata": {
    "collapsed": false,
    "jupyter": {
     "outputs_hidden": false
    },
    "ExecuteTime": {
     "end_time": "2025-04-14T17:00:04.748557Z",
     "start_time": "2025-04-14T16:59:42.421526Z"
    }
   },
   "source": [
    "%pip install librosa\n",
    "import torch\n",
    "import torch.nn as nn\n",
    "import numpy as np\n",
    "import matplotlib.pyplot as plt\n",
    "import librosa\n",
    "from glob import glob\n",
    "from torch.utils.data import Dataset, DataLoader\n",
    "import sklearn.metrics\n",
    "import wandb"
   ],
   "outputs": [
    {
     "name": "stdout",
     "output_type": "stream",
     "text": [
      "Requirement already satisfied: librosa in c:\\users\\shona\\appdata\\local\\programs\\python\\python311\\lib\\site-packages (0.11.0)\n",
      "Requirement already satisfied: audioread>=2.1.9 in c:\\users\\shona\\appdata\\local\\programs\\python\\python311\\lib\\site-packages (from librosa) (3.0.1)\n",
      "Requirement already satisfied: numba>=0.51.0 in c:\\users\\shona\\appdata\\local\\programs\\python\\python311\\lib\\site-packages (from librosa) (0.61.0)\n",
      "Requirement already satisfied: numpy>=1.22.3 in c:\\users\\shona\\appdata\\local\\programs\\python\\python311\\lib\\site-packages (from librosa) (1.24.2)\n",
      "Requirement already satisfied: scipy>=1.6.0 in c:\\users\\shona\\appdata\\local\\programs\\python\\python311\\lib\\site-packages (from librosa) (1.15.1)\n",
      "Requirement already satisfied: scikit-learn>=1.1.0 in c:\\users\\shona\\appdata\\local\\programs\\python\\python311\\lib\\site-packages (from librosa) (1.6.1)\n",
      "Requirement already satisfied: joblib>=1.0 in c:\\users\\shona\\appdata\\local\\programs\\python\\python311\\lib\\site-packages (from librosa) (1.4.2)\n",
      "Requirement already satisfied: decorator>=4.3.0 in c:\\users\\shona\\appdata\\local\\programs\\python\\python311\\lib\\site-packages (from librosa) (5.2.1)\n",
      "Requirement already satisfied: soundfile>=0.12.1 in c:\\users\\shona\\appdata\\local\\programs\\python\\python311\\lib\\site-packages (from librosa) (0.13.1)\n",
      "Requirement already satisfied: pooch>=1.1 in c:\\users\\shona\\appdata\\local\\programs\\python\\python311\\lib\\site-packages (from librosa) (1.8.2)\n",
      "Requirement already satisfied: soxr>=0.3.2 in c:\\users\\shona\\appdata\\local\\programs\\python\\python311\\lib\\site-packages (from librosa) (0.5.0.post1)\n",
      "Requirement already satisfied: typing_extensions>=4.1.1 in c:\\users\\shona\\appdata\\local\\programs\\python\\python311\\lib\\site-packages (from librosa) (4.12.2)\n",
      "Requirement already satisfied: lazy_loader>=0.1 in c:\\users\\shona\\appdata\\local\\programs\\python\\python311\\lib\\site-packages (from librosa) (0.4)\n",
      "Requirement already satisfied: msgpack>=1.0 in c:\\users\\shona\\appdata\\local\\programs\\python\\python311\\lib\\site-packages (from librosa) (1.1.0)\n",
      "Requirement already satisfied: packaging in c:\\users\\shona\\appdata\\local\\programs\\python\\python311\\lib\\site-packages (from lazy_loader>=0.1->librosa) (24.2)\n",
      "Requirement already satisfied: llvmlite<0.45,>=0.44.0dev0 in c:\\users\\shona\\appdata\\local\\programs\\python\\python311\\lib\\site-packages (from numba>=0.51.0->librosa) (0.44.0)\n",
      "Requirement already satisfied: platformdirs>=2.5.0 in c:\\users\\shona\\appdata\\local\\programs\\python\\python311\\lib\\site-packages (from pooch>=1.1->librosa) (4.3.7)\n",
      "Requirement already satisfied: requests>=2.19.0 in c:\\users\\shona\\appdata\\local\\programs\\python\\python311\\lib\\site-packages (from pooch>=1.1->librosa) (2.32.3)\n",
      "Requirement already satisfied: threadpoolctl>=3.1.0 in c:\\users\\shona\\appdata\\local\\programs\\python\\python311\\lib\\site-packages (from scikit-learn>=1.1.0->librosa) (3.6.0)\n",
      "Requirement already satisfied: cffi>=1.0 in c:\\users\\shona\\appdata\\local\\programs\\python\\python311\\lib\\site-packages (from soundfile>=0.12.1->librosa) (1.17.1)\n",
      "Requirement already satisfied: pycparser in c:\\users\\shona\\appdata\\local\\programs\\python\\python311\\lib\\site-packages (from cffi>=1.0->soundfile>=0.12.1->librosa) (2.22)\n",
      "Requirement already satisfied: charset-normalizer<4,>=2 in c:\\users\\shona\\appdata\\local\\programs\\python\\python311\\lib\\site-packages (from requests>=2.19.0->pooch>=1.1->librosa) (3.4.1)\n",
      "Requirement already satisfied: idna<4,>=2.5 in c:\\users\\shona\\appdata\\local\\programs\\python\\python311\\lib\\site-packages (from requests>=2.19.0->pooch>=1.1->librosa) (3.10)\n",
      "Requirement already satisfied: urllib3<3,>=1.21.1 in c:\\users\\shona\\appdata\\local\\programs\\python\\python311\\lib\\site-packages (from requests>=2.19.0->pooch>=1.1->librosa) (2.3.0)\n",
      "Requirement already satisfied: certifi>=2017.4.17 in c:\\users\\shona\\appdata\\local\\programs\\python\\python311\\lib\\site-packages (from requests>=2.19.0->pooch>=1.1->librosa) (2025.1.31)\n",
      "Note: you may need to restart the kernel to use updated packages.\n"
     ]
    }
   ],
   "execution_count": 3
  },
  {
   "metadata": {
    "ExecuteTime": {
     "end_time": "2025-04-14T17:00:05.056733Z",
     "start_time": "2025-04-14T17:00:04.756083Z"
    }
   },
   "cell_type": "code",
   "source": "%wandb login",
   "id": "36bc1ab20d7ffd52",
   "outputs": [
    {
     "data": {
      "text/plain": [
       "<wandb.jupyter.IFrame at 0x2012db9a8d0>"
      ],
      "text/html": [
       "<iframe src='https://wandb.ai/jazz-54-hate-club/login/workspace?jupyter=true' style='border:none;width:100%;height:420px;'></iframe>"
      ]
     },
     "metadata": {},
     "output_type": "display_data"
    }
   ],
   "execution_count": 4
  },
  {
   "cell_type": "code",
   "id": "cf10d516-dd0a-4753-ae8a-2bfc37fd254c",
   "metadata": {
    "collapsed": false,
    "jupyter": {
     "outputs_hidden": false
    },
    "ExecuteTime": {
     "end_time": "2025-04-14T17:00:05.080069Z",
     "start_time": "2025-04-14T17:00:05.073398Z"
    }
   },
   "source": [
    "def adjust_length(audio_data, target_length):                           \n",
    "    if len(audio_data) < target_length:                                 #when audio is shorter than target\n",
    "        padding = target_length-len(audio_data)                         #caclulated desired padding\n",
    "        adjusted_audio = np.concatenate((audio_data,np.zeros(padding))) #add padding to file\n",
    "    elif len(audio_data) > target_length:                               #when audio is longer than target\n",
    "        adjusted_audio = audio_data[:target_length]                     #only take the portion of the audio up till the target\n",
    "    else:                                                               #when audio is the target length\n",
    "        adjusted_audio = audio_data                                     #keep the original audio and don't truncate or pad\n",
    "                                                                        \n",
    "    return adjusted_audio                                               #return the truncated or padded signal with the exact target length"
   ],
   "outputs": [],
   "execution_count": 5
  },
  {
   "cell_type": "code",
   "id": "33124307-2c85-44ff-b21d-5e698bf8eacf",
   "metadata": {
    "ExecuteTime": {
     "end_time": "2025-04-14T17:00:05.106319Z",
     "start_time": "2025-04-14T17:00:05.098349Z"
    }
   },
   "source": [
    "def preprocess(audio_data, sample_rate, nfft):    \n",
    "    max_value = np.max(np.abs(audio_data))  #calculate the maximum amplitude within the file\n",
    "                                            \n",
    "    if max_value > 0:                       #for files with audio\n",
    "        normalised = audio_data/max_value   #divide so that the maximum amplitude is 1\n",
    "    else:                                   #if audio is silent\n",
    "        normalised = audio_data             #don't try to normalise it!\n",
    "\n",
    "    spectrogram = librosa.feature.melspectrogram(y=normalised, sr=sample_rate, n_fft=nfft) #compute the spectrogram with a small n_fft as the files are very short lengths\n",
    "    #spectrogram = librosa.feature.stft(y=normalised, n_fft=2048, hop_length=512) #short time fourier transform as a feature\n",
    "    zcr_feature = librosa.feature.zero_crossing_rate(y=normalised)\n",
    "\n",
    "\n",
    "    return spectrogram, zcr_feature                      #return the calculated spectrogram data"
   ],
   "outputs": [],
   "execution_count": 6
  },
  {
   "cell_type": "code",
   "id": "88945b01-c2c2-4215-98db-835157aaa518",
   "metadata": {
    "collapsed": false,
    "editable": true,
    "jupyter": {
     "outputs_hidden": false
    },
    "slideshow": {
     "slide_type": ""
    },
    "tags": [],
    "ExecuteTime": {
     "end_time": "2025-04-14T17:01:47.229149Z",
     "start_time": "2025-04-14T17:00:05.123681Z"
    }
   },
   "source": [
    "train_files, val_files, test_files, different_test_files = [], [], [], []\n",
    "train_features, val_features, test_features, different_test_features = [], [], [], []\n",
    "train_labels, val_labels, test_labels = [], [], []\n",
    "\n",
    "sr = 22050  #sample rate [Hz] as specified \n",
    "length = 30  #length of audio [s] as specified\n",
    "nfft = 2048 #fast fourier transform length\n",
    "\n",
    "\n",
    "#loading origional data\n",
    "for file in glob('genres_original/**/*.wav', recursive=True):\n",
    "    file_name = file.split('/')[-1]\n",
    "\n",
    "    if 'blues' in file_name:\n",
    "        label = 0\n",
    "    elif 'classical' in file_name:\n",
    "        label = 1\n",
    "    elif 'country' in file_name:\n",
    "        label = 2\n",
    "    elif 'disco' in file_name:\n",
    "        label = 3\n",
    "    elif 'hiphop' in file_name:\n",
    "        label = 4\n",
    "    elif 'jazz' in file_name:\n",
    "        label = 5\n",
    "    elif 'metal' in file_name:\n",
    "        label = 6\n",
    "    elif 'pop' in file_name:\n",
    "        label = 7 \n",
    "    elif 'reggae' in file_name:\n",
    "        label = 8\n",
    "    elif 'rock' in file_name:\n",
    "        label = 9\n",
    "    else:\n",
    "        assert(f'{file} is the wrong format. L.')\n",
    "\n",
    "    id = int(file_name.split('.')[1])\n",
    "    \n",
    "    #train = True if (id < 80 or label == 9) else False # Train/Test Split 80/20 not including rock genre\n",
    "    #val = True if  (80 <= id < 90 or label == 9) else False\n",
    "\n",
    "    train = True if id < 80 else False # Train/Test Split 80/20 not including rock genre\n",
    "    val = True if  80 <= id < 90 else False\n",
    "    \n",
    "    # Load Audio and append to train/test list\n",
    "    try:\n",
    "        audio, fs = librosa.load(file)\n",
    "        y_correct_length = adjust_length(audio,sr*length)                  #truncate or pad signals to desired length (1s)\n",
    "        y_spectrogram, zcr_feature = preprocess(y_correct_length, sr, nfft)             #normalise audio data so it peaks at 1\n",
    "        feature_1 = torch.from_numpy(y_spectrogram).float().squeeze(-1)      #add 1 dimension to start\n",
    "        feature_2 = torch.from_numpy(zcr_feature).float().squeeze(-1)\n",
    "        feature = torch.cat((feature_1, feature_2), dim=0)                   #join the features into one feature vector\n",
    "\n",
    "        if train:\n",
    "            train_files.append(file)\n",
    "            train_features.append(feature)\n",
    "            train_labels.append(label)\n",
    "        elif val:\n",
    "            val_files.append(file)\n",
    "            val_features.append(feature)\n",
    "            val_labels.append(label)\n",
    "        else:\n",
    "            test_files.append(audio)\n",
    "            test_features.append(feature)\n",
    "            test_labels.append(label)\n",
    "            \n",
    "    except Exception as e:\n",
    "        print(f'Error{e}: {file} not loaded')\n",
    "    \n",
    "\n",
    "#NEW!! Process the \"other\" audio files folder#\n",
    "for file in glob('other_audio/**/*.mp3', recursive=True): #loading in other folder of files\n",
    "    try:\n",
    "        audio, fs = librosa.load(file)\n",
    "        y_correct_length = adjust_length(audio, sr * length)\n",
    "        y_spectrogram, zcr_feature = preprocess(y_correct_length, sr, nfft)\n",
    "        feature_1 = torch.from_numpy(y_spectrogram).float().squeeze(-1)\n",
    "        feature_2 = torch.from_numpy(zcr_feature).float().squeeze(-1)\n",
    "        feature = torch.cat((feature_1, feature_2), dim=0)\n",
    "\n",
    "        #assign it to its own list, as will be called seperately\n",
    "        different_test_files.append(audio)\n",
    "        different_test_features.append(feature)\n",
    "\n",
    "\n",
    "    except Exception as e:\n",
    "        print(f'Error{e}: {file} not loaded from other audio folder')\n",
    "\n",
    "\n",
    "\n",
    "\n",
    "print(f\"Train files: {len(train_files)}, Validation files: {len(val_files)}, Test files: {len(test_files)}\")\n",
    "\n",
    "\n",
    "train_features = torch.stack(train_features).float()    #convert list into float32 torch tensor\n",
    "val_features = torch.stack(val_features).float()        #convert list into float32 torch tensor\n",
    "test_features = torch.stack(test_features).float()      #convert list into float32 torch tensor\n",
    "different_test_features = torch.stack(different_test_features).float() #convert list into float32 torch tensor\n",
    "\n",
    "#Check: print length and size of training, validation and testing features\n",
    "print(f\"Train Features: {len(train_features)}, Validation Features: {len(val_features)}, Test Features: {len(test_features)}, Different Test Features: {len(different_test_features)}\")\n",
    "print(f\"Train Features: {train_features.shape}, Validation Features: {val_features.shape}, Test Features: {test_features.shape}, Different Test Features: {different_test_features.shape}\")"
   ],
   "outputs": [
    {
     "name": "stderr",
     "output_type": "stream",
     "text": [
      "C:\\Users\\Shona\\AppData\\Local\\Temp\\ipykernel_32320\\191711219.py:47: UserWarning: PySoundFile failed. Trying audioread instead.\n",
      "  audio, fs = librosa.load(file)\n",
      "C:\\Users\\Shona\\AppData\\Local\\Programs\\Python\\Python311\\Lib\\site-packages\\librosa\\core\\audio.py:184: FutureWarning: librosa.core.audio.__audioread_load\n",
      "\tDeprecated as of librosa version 0.10.0.\n",
      "\tIt will be removed in librosa version 1.0.\n",
      "  y, sr_native = __audioread_load(path, offset, duration, dtype)\n"
     ]
    },
    {
     "name": "stdout",
     "output_type": "stream",
     "text": [
      "Error: genres_original\\jazz\\jazz.00054.wav not loaded\n",
      "Train files: 799, Validation files: 100, Test files: 100\n",
      "Train Features: 799, Validation Features: 100, Test Features: 100, Different Test Features: 13\n",
      "Train Features: torch.Size([799, 129, 1292]), Validation Features: torch.Size([100, 129, 1292]), Test Features: torch.Size([100, 129, 1292]), Different Test Features: torch.Size([13, 129, 1292])\n"
     ]
    }
   ],
   "execution_count": 7
  },
  {
   "cell_type": "code",
   "id": "abc8bf46-0f91-43e8-99a7-a5362f30f9eb",
   "metadata": {
    "collapsed": false,
    "jupyter": {
     "outputs_hidden": false
    },
    "ExecuteTime": {
     "end_time": "2025-04-14T17:03:29.588090Z",
     "start_time": "2025-04-14T17:03:29.581329Z"
    }
   },
   "source": [
    "class AudioDataSet(Dataset):              # Don't change this line\n",
    "    def __init__(self, features, labels): # Don't change this line\n",
    "        self.features = (features)              #save features to class\n",
    "        self.labels = (labels)                  #save labels to class\n",
    "        \n",
    "    def __getitem__(self, i):             # Don't change this line\n",
    "        return self.features[i], self.labels[i] #return requested features and labels\n",
    " \n",
    "    def __len__(self):                    # Don't change this line\n",
    "        return len(self.features)               #return length of features"
   ],
   "outputs": [],
   "execution_count": 8
  },
  {
   "metadata": {
    "ExecuteTime": {
     "end_time": "2025-04-14T17:03:30.964111Z",
     "start_time": "2025-04-14T17:03:30.956394Z"
    }
   },
   "cell_type": "code",
   "source": [
    "#NEW!! dataset loading for unlabeled data - aka the ones used for extra evaluation!\n",
    "class UnlabeledAudioDataSet(Dataset):\n",
    "    def __init__(self, features): # Don't change this line\n",
    "        self.features = (features)              #save features to class\n",
    "    def __getitem__(self, i):             # Don't change this line\n",
    "        return self.features[i] #return requested features and labels\n",
    "    def __len__(self):                    # Don't change this line\n",
    "        return len(self.features)               #return length of features"
   ],
   "id": "7a030ccff3c67874",
   "outputs": [],
   "execution_count": 9
  },
  {
   "cell_type": "code",
   "id": "9538ed93-4e53-4adb-952d-a780005eff4b",
   "metadata": {
    "ExecuteTime": {
     "end_time": "2025-04-14T17:03:34.323702Z",
     "start_time": "2025-04-14T17:03:34.314375Z"
    }
   },
   "source": [
    "class ConvBlock(torch.nn.Module):                       # Don't change this line\n",
    "    def __init__(self, in_channels, out_channels, kernel_size, activation):\n",
    "        super(ConvBlock, self).__init__()               # Don't change this line\n",
    "        self.conv = nn.Conv1d(in_channels, out_channels, kernel_size)   #1D convolution layer\n",
    "        if activation == 1:\n",
    "            self.act = nn.ReLU()                                        #non-linear activation function layer\n",
    "        elif activation == 2:\n",
    "            self.act = nn.Sigmoid()                                     #sigmoid activation function layer\n",
    "        elif activation == 3:\n",
    "            self.act = nn.Tanh()                                        #tanh activation function layer\n",
    "        else:\n",
    "            assert'Incorrect activation function index'\n",
    "                                                           \n",
    "    def forward(self, x):                               # Don't change this line\n",
    "        x = self.conv(x)                #apply 1d convolution layer\n",
    "        x = self.act(x)                 #apply activation function layer\n",
    "        return x                        #return the output from the block"
   ],
   "outputs": [],
   "execution_count": 10
  },
  {
   "cell_type": "code",
   "id": "88378caf-4227-4f4c-bf83-f495e158ff55",
   "metadata": {
    "ExecuteTime": {
     "end_time": "2025-04-14T17:03:36.184324Z",
     "start_time": "2025-04-14T17:03:36.174362Z"
    }
   },
   "source": [
    "class ConvNet(torch.nn.Module):                         # Don't change this line\n",
    "    def __init__(self, in_channels, out_channels, kernel_size, num_blocks, num_classes,activation,pool,dropout):   # Add arguments to the constructor method of your Class\n",
    "        super(ConvNet, self).__init__()                 # Don't change this line\n",
    "        self.conv_blocks = nn.ModuleList()              #initialise class variable for the network's structure\n",
    "                                                                                                \n",
    "        for block in range(num_blocks):                                                         #every block\n",
    "            self.conv_blocks.append(ConvBlock(in_channels,out_channels,kernel_size,activation)) #add the block to the architecture\n",
    "            in_channels = out_channels                                                          #set the number of input channels for the next block to be the size of the output channels of current block\n",
    "\n",
    "        if pool == 1:\n",
    "            self.pooling = nn.AdaptiveAvgPool1d(1)      #create global average pooling layer \n",
    "        elif pool == 2:\n",
    "            self.pooling = nn.AdaptiveMaxPool1d(1)      #create global maximum pooling layer \n",
    "        else:\n",
    "            assert'Incorrect pooling index'\n",
    "\n",
    "        self.linear_layer = nn.Linear(out_channels,num_classes)    #create linear layer for output\n",
    "        self.dropout = nn.Dropout(p=dropout)\n",
    "\n",
    "    def forward(self, x):                               # Don't change this line\n",
    "        for conv_block in self.conv_blocks:             #every block\n",
    "            x = conv_block(x)                           #apply convolutional block\n",
    "            x = self.dropout(x)\n",
    "\n",
    "        x = self.pooling(x)                             #apply global average pooling\n",
    "        x = x.squeeze(-1)                               #remove extra dimension \n",
    "        x = self.linear_layer(x)                        #apply linear layer\n",
    "\n",
    "        return x"
   ],
   "outputs": [],
   "execution_count": 11
  },
  {
   "cell_type": "code",
   "id": "673cabfd-1759-4615-a799-a388886807ae",
   "metadata": {
    "ExecuteTime": {
     "end_time": "2025-04-14T17:03:38.660837Z",
     "start_time": "2025-04-14T17:03:38.649332Z"
    }
   },
   "source": [
    "def train_loop(model, train_loader, optimiser, BCEloss, num_epochs):\n",
    "    train_losses = []                                       #initialise training losses list\n",
    "    \n",
    "    for epoch in range(num_epochs):\n",
    "        train_loss = 0.0                                    #initialise the training loss\n",
    "        for batch in train_loader:\n",
    "            features, labels = batch                        #find features and labels in batch\n",
    "            features = features.squeeze(1)                  #remove extra dimension\n",
    "            optimiser.zero_grad()                           #zero gradient optimiser\n",
    "            \n",
    "            output = model(features)                        #compute model's predictions\n",
    "            loss = BCEloss(output, labels)                  #calculate training loss\n",
    "            \n",
    "            loss.backward()                                 #backward propagation\n",
    "            optimiser.step()                                #update the NN's parameters\n",
    "            train_loss += loss.item()                       #add the iteration's loss to a counter\n",
    "                                                            \n",
    "        avg_loss = train_loss/len(train_loader)             #calculate average loss\n",
    "\n",
    "        print(f\"Epoch {epoch+1}/{num_epochs}\")\n",
    "        if epoch % 5 == 0:\n",
    "            validate_loop(model, val_loader, BCEloss)\n",
    "\n",
    "        wandb.log({\"Epoch: \": epoch, \"Training Loss: \": avg_loss})\n",
    "        train_losses.append(avg_loss)                       #add average loss to list"
   ],
   "outputs": [],
   "execution_count": 12
  },
  {
   "cell_type": "code",
   "id": "e4e8871e-8526-4e62-aa1b-b5ca30d7c727",
   "metadata": {
    "ExecuteTime": {
     "end_time": "2025-04-14T17:03:40.907758Z",
     "start_time": "2025-04-14T17:03:40.896893Z"
    }
   },
   "source": [
    "def validate_loop(model, val_loader, BCEloss):\n",
    "    model.eval()\n",
    "    val_losses, val_accs = [], []                            #initialise lists for validation losses and validation accuracies\n",
    "    correct_pred, total_pred = 0, 0                          #initialise counter for total predictions and amount of correct predictions\n",
    "\n",
    "    with torch.no_grad():\n",
    "        for epoch in range(0, num_epochs, 5):                    #for every 5 iterations\n",
    "            val_loss = 0.0                                       #initialise validation loss\n",
    "    \n",
    "            for batch in val_loader:      \n",
    "                features, labels = batch                         #find features and labels in batch\n",
    "                features = features.squeeze(1)                   #remove extra dimension\n",
    "                \n",
    "                output = model(features)                         #compute model's predictions\n",
    "                loss = BCEloss(output, labels)                   #calculate validation loss\n",
    "                val_loss += loss.item()                          #add validation loss list with loss\n",
    "        \n",
    "                _, pred = torch.max(output, 1)                   #pred = index of the features maximum (class labels), ignoring maximum value (_)\n",
    "                correct_pred += (pred == labels).sum().item()    #add to counter if the prediction is equal to the label\n",
    "                total_pred += labels.size(0)                     #add to counter of total predictions\n",
    "    \n",
    "        avg_loss = val_loss/len(val_loader)              #calculate average loss\n",
    "        acc = correct_pred/total_pred                    #calculate accuracy  \n",
    "            \n",
    "        val_losses.append(avg_loss)                      #add average loss to the validation loss list\n",
    "        val_accs.append(acc*100)                         #add accuracy to the validation accuracy list\n",
    "\n",
    "#Output: print overall accuracy and loss from testing set\n",
    "        print(f'Validation loss: {avg_loss:.3f}, Validation Accuracy: {acc*100:.1f}%')\n",
    "        wandb.log({\"Validation Loss\": avg_loss, \"Validation Accuracy\": acc*100})"
   ],
   "outputs": [],
   "execution_count": 13
  },
  {
   "cell_type": "code",
   "id": "4df9da25-94f8-4d07-a8e5-0c29f321465a",
   "metadata": {
    "ExecuteTime": {
     "end_time": "2025-04-14T17:03:43.826952Z",
     "start_time": "2025-04-14T17:03:43.818051Z"
    }
   },
   "source": [
    "def test_loop(model, test_loader, BCEloss):\n",
    "    model.eval()\n",
    "    test_loss = 0.0                                          #initialise test loss\n",
    "    correct_pred, total_pred = 0, 0                          #initialise counter for total predictions and amount of correct predictions\n",
    "    test_labels, test_preds = [], []                         #initialise lists for test labels and test predictions\n",
    "\n",
    "    with torch.no_grad():\n",
    "        for batch in test_loader:\n",
    "            features, labels = batch                             #find features and labels in batch\n",
    "            features = features.squeeze(1)                       #remove extra dimension\n",
    "            \n",
    "            output = model(features)                             #compute model's predictions\n",
    "            loss = BCEloss(output, labels)                       #calculate test loss \n",
    "            test_loss += loss.item()                             #add test loss list with loss\n",
    "    \n",
    "            _, pred = torch.max(output, 1)                       #pred = index of the features maximum (class labels), ignoring maximum value (_)\n",
    "            correct_pred += (pred == labels).sum().item()        #add to counter if the prediction is equal to the label\n",
    "            total_pred += labels.size(0)                         #add to counter of total predictions\n",
    "    \n",
    "            test_labels.extend(labels.numpy())                   #add correct predictions to list\n",
    "            test_preds.extend(pred.numpy())                      #add model predictions to list \n",
    "            \n",
    "    avg_loss = test_loss/len(test_loader)                #calculate average loss\n",
    "    acc = correct_pred/total_pred                        #calculate accuracy  \n",
    "\n",
    "#Output: print overall accuracy and loss from testing set\n",
    "    print(f'Testing loss: {avg_loss:.3f}, Testing Accuracy: {acc*100:.1f}%')\n",
    "    wandb.log({\"Test Accuracy\" : acc*100})\n",
    "    return test_labels, test_preds"
   ],
   "outputs": [],
   "execution_count": 14
  },
  {
   "metadata": {
    "ExecuteTime": {
     "end_time": "2025-04-14T17:09:03.804824Z",
     "start_time": "2025-04-14T17:09:03.796266Z"
    }
   },
   "cell_type": "code",
   "source": [
    "#NEW! loop for processing of unlabelled data!\n",
    "def prediction_loop(model, unlabeled_loader):\n",
    "    model.eval()\n",
    "    all_predictions = []\n",
    "    with torch.no_grad():\n",
    "        for features in unlabeled_loader:\n",
    "            features = features.squeeze(1) # Remove potential extra dimension\n",
    "\n",
    "            output = model(features)\n",
    "            _, pred = torch.max(output, 1)\n",
    "\n",
    "            all_predictions.extend(pred.numpy())\n",
    "    return np.array(all_predictions)\n"
   ],
   "id": "5571e701ab0caa4e",
   "outputs": [],
   "execution_count": 17
  },
  {
   "cell_type": "code",
   "id": "01ca6b53-eaa1-4b9e-bd1d-98dbf905a80d",
   "metadata": {
    "ExecuteTime": {
     "end_time": "2025-04-14T17:11:22.303650Z",
     "start_time": "2025-04-14T17:09:07.219087Z"
    }
   },
   "source": [
    "batch_size = 50\n",
    "\n",
    "train_dataset = AudioDataSet(train_features, train_labels)                      #create training dataset and labels\n",
    "train_loader = DataLoader(train_dataset, batch_size=batch_size, shuffle=True)   #load training dataset in batches of 50 samples\n",
    "                                                                        \n",
    "val_dataset = AudioDataSet(val_features, val_labels)                            #create validation dataset and labels\n",
    "val_loader = DataLoader(val_dataset, batch_size=batch_size, shuffle=False)      #load validation dataset in batches of 50 samples\n",
    "\n",
    "test_dataset = AudioDataSet(test_features, test_labels)                         #create test dataset and labels\n",
    "test_loader = DataLoader(test_dataset, batch_size=batch_size, shuffle=False)    #load test dataset in batches of 50 samples\n",
    "\n",
    "unlabeled_test_dataset = UnlabeledAudioDataSet(different_test_features) #create different test dataset with features\n",
    "unlabeled_test_loader = DataLoader(unlabeled_test_dataset, batch_size=50) #create different test loader\n",
    "\n",
    "\n",
    "#User defined parameters\n",
    "num_blocks = 4          #number of blocks\n",
    "kernel_size = 3         #number of kernels\n",
    "num_epochs = 125        #number of epochs\n",
    "num_classes = 10        #number of classes\n",
    "activation = 3          #1:ReLU    2:Sigmoid    3:Tanh\n",
    "pool = 1                #1:Average 2:Maximum\n",
    "optimiser = 1           #1:Adam    2:SGD\n",
    "dropout = 0.25          #dropout rate\n",
    "learning_rate = 0.001   #learning rate\n",
    "\n",
    "modelType = 4        #1:Shared  2:Experimenting with structure 3:Experimenting with parameters #4:Compiling the group code\n",
    "\n",
    "if modelType == 1:\n",
    "    model = ConvNet(in_channels=128, out_channels=16, kernel_size=3, num_blocks=6, num_classes=10, activation=1, pool=1)     #create instance of CNN\n",
    "    func4 = \"BaseCode\"\n",
    "elif modelType == 4:\n",
    "    model = ConvNet(in_channels=129, out_channels=16, kernel_size=kernel_size, num_blocks=num_blocks, num_classes=num_classes, activation=activation, pool=pool, dropout=dropout)\n",
    "    func4 = \"GroupCodeEfforts\"\n",
    "else:\n",
    "    assert'Incorrect Model Type'\n",
    "\n",
    "if optimiser == 1:\n",
    "    optimiser = torch.optim.Adam(model.parameters(),lr=learning_rate)                   #create instance of Adam optimiser\n",
    "    func3 = \"Adam\"\n",
    "elif optimiser == 2:\n",
    "    optimiser = torch.optim.SGD(model.parameters())                    #create instance of SGD optimiser\n",
    "    func3 = \"SGD\"\n",
    "else:\n",
    "    assert'Incorrect optimiser index'\n",
    "\n",
    "BCEloss = nn.CrossEntropyLoss()                                         #create instance of Binary Cross Entropy loss\n",
    "\n",
    "if activation == 1:\n",
    "    func = \"ReLU\"\n",
    "elif activation == 2:\n",
    "    func = \"Sigmoid\"\n",
    "elif activation == 3:\n",
    "    func = \"Tanh\"\n",
    "\n",
    "if pool == 1:\n",
    "    func2 = \"Average\"\n",
    "elif pool == 2:\n",
    "    func2 = \"Maximum\"\n",
    "    \n",
    "print(f\"Model {func4} training with: {num_blocks} blocks, {func} Activation, Adaptive {func2} Pooling and {func3} Optimiser for {num_epochs} epochs and {kernel_size} kernels.\")\n",
    "\n",
    "my_config = {\"Number of blocks\" : num_blocks, \"Activation\" : activation, \"Optimiser\" : optimiser, \"Pooling\" : pool, \"Number of epochs\" : num_epochs, \"model\" : func4, \"Number of kernels\" : kernel_size, \"Dropout Rate\" : dropout}\n",
    "\n",
    "\n",
    "wandb.init(\n",
    "    project=\"Genre_classifier\",\n",
    "    entity=\"jazz-54-hate-club\",\n",
    "    reinit=True,\n",
    "    config=my_config,\n",
    "    name=(f\"GroupCompiledCode_{num_epochs}Epochs_{learning_rate}_{num_blocks}Blocks\")\n",
    ")\n",
    "\n",
    "\n",
    "train_loop(model, train_loader, optimiser, BCEloss, num_epochs)         #run training loop for 100 epochs\n",
    "test_labels, test_preds = test_loop(model, test_loader, BCEloss)        #run testing loop\n",
    "predictions_unlabeled = prediction_loop(model, unlabeled_test_loader)   #run prediction loop\n",
    "genres = [\"Blues\", \"Clas\", \"Coun\", \"Disc\", \"HipH\", \"Jazz\", \"Meta\", \"Pop\", \"Regg\", \"Rock\"]\n",
    "predicted_string_labels = [genres[label] for label in predictions_unlabeled] #converting number label to string label\n",
    "print(\"Predictions for unlabeled data:\", predicted_string_labels)"
   ],
   "outputs": [
    {
     "name": "stdout",
     "output_type": "stream",
     "text": [
      "Model GroupCodeEfforts training with: 4 blocks, Tanh Activation, Adaptive Average Pooling and Adam Optimiser for 125 epochs and 3 kernels.\n"
     ]
    },
    {
     "data": {
      "text/plain": [
       "<IPython.core.display.HTML object>"
      ],
      "text/html": []
     },
     "metadata": {},
     "output_type": "display_data"
    },
    {
     "data": {
      "text/plain": [
       "<IPython.core.display.HTML object>"
      ],
      "text/html": [
       "<br>    <style><br>        .wandb-row {<br>            display: flex;<br>            flex-direction: row;<br>            flex-wrap: wrap;<br>            justify-content: flex-start;<br>            width: 100%;<br>        }<br>        .wandb-col {<br>            display: flex;<br>            flex-direction: column;<br>            flex-basis: 100%;<br>            flex: 1;<br>            padding: 10px;<br>        }<br>    </style><br><div class=\"wandb-row\"><div class=\"wandb-col\"><h3>Run history:</h3><br/><table class=\"wandb\"><tr><td>Epoch: </td><td>▁▁▁▁▂▂▂▂▂▂▂▂▃▃▃▄▄▄▄▄▅▅▅▅▅▆▆▆▆▆▆▇▇▇▇▇▇▇██</td></tr><tr><td>Test Accuracy</td><td>▁</td></tr><tr><td>Training Loss: </td><td>█▇▅▅▅▄▄▄▄▄▄▄▃▃▃▃▃▃▃▃▃▂▂▂▂▂▂▂▂▂▂▂▁▁▁▁▁▁▁▁</td></tr><tr><td>Validation Accuracy</td><td>▁▃▄▄▄▅▄▄▄▆▅▅▅▅▆▅▆▆▇▇▆▇█▇▇</td></tr><tr><td>Validation Loss</td><td>█▅▄▄▃▃▂▂▂▂▂▁▂▂▁▁▁▁▂▂▂▂▂▂▂</td></tr></table><br/></div><div class=\"wandb-col\"><h3>Run summary:</h3><br/><table class=\"wandb\"><tr><td>Epoch: </td><td>124</td></tr><tr><td>Test Accuracy</td><td>56.0</td></tr><tr><td>Training Loss: </td><td>0.67373</td></tr><tr><td>Validation Accuracy</td><td>51</td></tr><tr><td>Validation Loss</td><td>1.6486</td></tr></table><br/></div></div>"
      ]
     },
     "metadata": {},
     "output_type": "display_data"
    },
    {
     "data": {
      "text/plain": [
       "<IPython.core.display.HTML object>"
      ],
      "text/html": [
       " View run <strong style=\"color:#cdcd00\">GroupCompiledCode_125Epochs_0.001_4Blocks</strong> at: <a href='https://wandb.ai/jazz-54-hate-club/Genre_classifier/runs/8lqcdxw8' target=\"_blank\">https://wandb.ai/jazz-54-hate-club/Genre_classifier/runs/8lqcdxw8</a><br> View project at: <a href='https://wandb.ai/jazz-54-hate-club/Genre_classifier' target=\"_blank\">https://wandb.ai/jazz-54-hate-club/Genre_classifier</a><br>Synced 5 W&B file(s), 0 media file(s), 0 artifact file(s) and 0 other file(s)"
      ]
     },
     "metadata": {},
     "output_type": "display_data"
    },
    {
     "data": {
      "text/plain": [
       "<IPython.core.display.HTML object>"
      ],
      "text/html": [
       "Find logs at: <code>.\\wandb\\run-20250414_180635-8lqcdxw8\\logs</code>"
      ]
     },
     "metadata": {},
     "output_type": "display_data"
    },
    {
     "data": {
      "text/plain": [
       "<IPython.core.display.HTML object>"
      ],
      "text/html": [
       "Waiting for wandb.init()..."
      ]
     },
     "metadata": {},
     "output_type": "display_data"
    },
    {
     "data": {
      "text/plain": [
       "<IPython.core.display.HTML object>"
      ],
      "text/html": [
       "Tracking run with wandb version 0.19.8"
      ]
     },
     "metadata": {},
     "output_type": "display_data"
    },
    {
     "data": {
      "text/plain": [
       "<IPython.core.display.HTML object>"
      ],
      "text/html": [
       "Run data is saved locally in <code>C:\\Users\\Shona\\Documents\\4th Year\\Audio Machine Learning\\Assignment 2\\Genre_Classifier\\wandb\\run-20250414_180907-u4o63zk6</code>"
      ]
     },
     "metadata": {},
     "output_type": "display_data"
    },
    {
     "data": {
      "text/plain": [
       "<IPython.core.display.HTML object>"
      ],
      "text/html": [
       "Syncing run <strong><a href='https://wandb.ai/jazz-54-hate-club/Genre_classifier/runs/u4o63zk6' target=\"_blank\">GroupCompiledCode_125Epochs_0.001_4Blocks</a></strong> to <a href='https://wandb.ai/jazz-54-hate-club/Genre_classifier' target=\"_blank\">Weights & Biases</a> (<a href='https://wandb.me/developer-guide' target=\"_blank\">docs</a>)<br>"
      ]
     },
     "metadata": {},
     "output_type": "display_data"
    },
    {
     "data": {
      "text/plain": [
       "<IPython.core.display.HTML object>"
      ],
      "text/html": [
       " View project at <a href='https://wandb.ai/jazz-54-hate-club/Genre_classifier' target=\"_blank\">https://wandb.ai/jazz-54-hate-club/Genre_classifier</a>"
      ]
     },
     "metadata": {},
     "output_type": "display_data"
    },
    {
     "data": {
      "text/plain": [
       "<IPython.core.display.HTML object>"
      ],
      "text/html": [
       " View run at <a href='https://wandb.ai/jazz-54-hate-club/Genre_classifier/runs/u4o63zk6' target=\"_blank\">https://wandb.ai/jazz-54-hate-club/Genre_classifier/runs/u4o63zk6</a>"
      ]
     },
     "metadata": {},
     "output_type": "display_data"
    },
    {
     "name": "stdout",
     "output_type": "stream",
     "text": [
      "Epoch 1/125\n",
      "Validation loss: 2.261, Validation Accuracy: 11.0%\n",
      "Epoch 2/125\n",
      "Epoch 3/125\n",
      "Epoch 4/125\n",
      "Epoch 5/125\n",
      "Epoch 6/125\n",
      "Validation loss: 1.960, Validation Accuracy: 35.0%\n",
      "Epoch 7/125\n",
      "Epoch 8/125\n",
      "Epoch 9/125\n",
      "Epoch 10/125\n",
      "Epoch 11/125\n",
      "Validation loss: 1.799, Validation Accuracy: 35.0%\n",
      "Epoch 12/125\n",
      "Epoch 13/125\n",
      "Epoch 14/125\n",
      "Epoch 15/125\n",
      "Epoch 16/125\n",
      "Validation loss: 1.771, Validation Accuracy: 38.0%\n",
      "Epoch 17/125\n",
      "Epoch 18/125\n",
      "Epoch 19/125\n",
      "Epoch 20/125\n",
      "Epoch 21/125\n",
      "Validation loss: 1.676, Validation Accuracy: 38.0%\n",
      "Epoch 22/125\n",
      "Epoch 23/125\n",
      "Epoch 24/125\n",
      "Epoch 25/125\n",
      "Epoch 26/125\n",
      "Validation loss: 1.695, Validation Accuracy: 44.0%\n",
      "Epoch 27/125\n",
      "Epoch 28/125\n",
      "Epoch 29/125\n",
      "Epoch 30/125\n",
      "Epoch 31/125\n",
      "Validation loss: 1.603, Validation Accuracy: 38.0%\n",
      "Epoch 32/125\n",
      "Epoch 33/125\n",
      "Epoch 34/125\n",
      "Epoch 35/125\n",
      "Epoch 36/125\n",
      "Validation loss: 1.593, Validation Accuracy: 44.0%\n",
      "Epoch 37/125\n",
      "Epoch 38/125\n",
      "Epoch 39/125\n",
      "Epoch 40/125\n",
      "Epoch 41/125\n",
      "Validation loss: 1.634, Validation Accuracy: 48.0%\n",
      "Epoch 42/125\n",
      "Epoch 43/125\n",
      "Epoch 44/125\n",
      "Epoch 45/125\n",
      "Epoch 46/125\n",
      "Validation loss: 1.547, Validation Accuracy: 45.0%\n",
      "Epoch 47/125\n",
      "Epoch 48/125\n",
      "Epoch 49/125\n",
      "Epoch 50/125\n",
      "Epoch 51/125\n",
      "Validation loss: 1.568, Validation Accuracy: 42.0%\n",
      "Epoch 52/125\n",
      "Epoch 53/125\n",
      "Epoch 54/125\n",
      "Epoch 55/125\n",
      "Epoch 56/125\n",
      "Validation loss: 1.561, Validation Accuracy: 40.0%\n",
      "Epoch 57/125\n",
      "Epoch 58/125\n",
      "Epoch 59/125\n",
      "Epoch 60/125\n",
      "Epoch 61/125\n",
      "Validation loss: 1.628, Validation Accuracy: 43.0%\n",
      "Epoch 62/125\n",
      "Epoch 63/125\n",
      "Epoch 64/125\n",
      "Epoch 65/125\n",
      "Epoch 66/125\n",
      "Validation loss: 1.582, Validation Accuracy: 39.0%\n",
      "Epoch 67/125\n",
      "Epoch 68/125\n",
      "Epoch 69/125\n",
      "Epoch 70/125\n",
      "Epoch 71/125\n",
      "Validation loss: 1.481, Validation Accuracy: 41.0%\n",
      "Epoch 72/125\n",
      "Epoch 73/125\n",
      "Epoch 74/125\n",
      "Epoch 75/125\n",
      "Epoch 76/125\n",
      "Validation loss: 1.489, Validation Accuracy: 45.0%\n",
      "Epoch 77/125\n",
      "Epoch 78/125\n",
      "Epoch 79/125\n",
      "Epoch 80/125\n",
      "Epoch 81/125\n",
      "Validation loss: 1.443, Validation Accuracy: 45.0%\n",
      "Epoch 82/125\n",
      "Epoch 83/125\n",
      "Epoch 84/125\n",
      "Epoch 85/125\n",
      "Epoch 86/125\n",
      "Validation loss: 1.523, Validation Accuracy: 46.0%\n",
      "Epoch 87/125\n",
      "Epoch 88/125\n",
      "Epoch 89/125\n",
      "Epoch 90/125\n",
      "Epoch 91/125\n",
      "Validation loss: 1.574, Validation Accuracy: 41.0%\n",
      "Epoch 92/125\n",
      "Epoch 93/125\n",
      "Epoch 94/125\n",
      "Epoch 95/125\n",
      "Epoch 96/125\n",
      "Validation loss: 1.475, Validation Accuracy: 43.0%\n",
      "Epoch 97/125\n",
      "Epoch 98/125\n",
      "Epoch 99/125\n",
      "Epoch 100/125\n",
      "Epoch 101/125\n",
      "Validation loss: 1.529, Validation Accuracy: 49.0%\n",
      "Epoch 102/125\n",
      "Epoch 103/125\n",
      "Epoch 104/125\n",
      "Epoch 105/125\n",
      "Epoch 106/125\n",
      "Validation loss: 1.545, Validation Accuracy: 43.0%\n",
      "Epoch 107/125\n",
      "Epoch 108/125\n",
      "Epoch 109/125\n",
      "Epoch 110/125\n",
      "Epoch 111/125\n",
      "Validation loss: 1.498, Validation Accuracy: 48.0%\n",
      "Epoch 112/125\n",
      "Epoch 113/125\n",
      "Epoch 114/125\n",
      "Epoch 115/125\n",
      "Epoch 116/125\n",
      "Validation loss: 1.445, Validation Accuracy: 49.0%\n",
      "Epoch 117/125\n",
      "Epoch 118/125\n",
      "Epoch 119/125\n",
      "Epoch 120/125\n",
      "Epoch 121/125\n",
      "Validation loss: 1.518, Validation Accuracy: 51.0%\n",
      "Epoch 122/125\n",
      "Epoch 123/125\n",
      "Epoch 124/125\n",
      "Epoch 125/125\n",
      "Testing loss: 1.290, Testing Accuracy: 58.0%\n",
      "Predictions for unlabeled data: ['Coun', 'Blues', 'Regg', 'Rock', 'Coun', 'Blues', 'Blues', 'Coun', 'Regg', 'Coun', 'Clas', 'Coun', 'Coun']\n"
     ]
    }
   ],
   "execution_count": 18
  },
  {
   "cell_type": "code",
   "id": "b3ee91af-80a6-4910-a11d-aae88f421463",
   "metadata": {
    "ExecuteTime": {
     "end_time": "2025-04-14T17:19:04.799466Z",
     "start_time": "2025-04-14T17:19:02.173698Z"
    }
   },
   "source": [
    "genres = [\"Blues\", \"Clas\", \"Coun\", \"Disc\", \"HipH\", \"Jazz\", \"Meta\", \"Pop\", \"Regg\", \"Rock\"]\n",
    "matrix = sklearn.metrics.confusion_matrix(test_labels,test_preds)   #create confusion matrix using testing dataset\n",
    "disp = sklearn.metrics.ConfusionMatrixDisplay(confusion_matrix=matrix, display_labels=genres)                            #add matrix to displayable plot variable\n",
    "\n",
    "#Output: display confusion matrix and save figure to file\n",
    "disp.plot()\n",
    "plt.savefig(f'CM_model{modelType}_{num_blocks}_{func}_{func2}_{func3}_{num_epochs}_{kernel_size}.png')\n",
    "\n",
    "matrix_save = wandb.plot.confusion_matrix(y_true=test_labels, preds=test_preds, class_names=genres)\n",
    "wandb.log({\"Confusion Matrix\": matrix_save})"
   ],
   "outputs": [
    {
     "data": {
      "text/plain": [
       "<Figure size 640x480 with 2 Axes>"
      ],
      "image/png": "[encoded data removed]"
     },
     "metadata": {},
     "output_type": "display_data"
    }
   ],
   "execution_count": 19
  },
  {
   "metadata": {
    "ExecuteTime": {
     "end_time": "2025-04-14T11:08:54.400153Z",
     "start_time": "2025-04-14T11:08:54.142737Z"
    }
   },
   "cell_type": "code",
   "source": [
    "#FOR EXPERIMENT\n",
    "report = sklearn.metrics.classification_report(test_labels,test_preds, target_names=genres)\n",
    "print(report)\n",
    "\n",
    "report_columns =  [\"Class\", \"Precision\", \"Recall\", \"F1-score\", \"Support\"]\n",
    "class_report = report.splitlines()\n",
    "\n",
    "report_table = []\n",
    "for line in class_report[2:(len(genres)+2)]:\n",
    "    report_table.append(line.split())\n",
    "\n",
    "wandb.log({\"Classification Report\": wandb.Table(data=report_table, columns=report_columns)})"
   ],
   "id": "5a1d6bcbeb84922b",
   "outputs": [
    {
     "name": "stdout",
     "output_type": "stream",
     "text": [
      "              precision    recall  f1-score   support\n",
      "\n",
      "       Blues       0.00      0.00      0.00        10\n",
      "        Clas       0.60      0.30      0.40        10\n",
      "        Coun       0.35      0.90      0.50        10\n",
      "        Disc       0.67      0.40      0.50        10\n",
      "        HipH       0.67      0.60      0.63        10\n",
      "        Jazz       0.73      0.80      0.76        10\n",
      "        Meta       0.73      0.80      0.76        10\n",
      "         Pop       0.88      0.70      0.78        10\n",
      "        Regg       0.50      0.60      0.55        10\n",
      "        Rock       0.40      0.20      0.27        10\n",
      "\n",
      "    accuracy                           0.53       100\n",
      "   macro avg       0.55      0.53      0.51       100\n",
      "weighted avg       0.55      0.53      0.51       100\n",
      "\n"
     ]
    }
   ],
   "execution_count": 52
  },
  {
   "metadata": {
    "ExecuteTime": {
     "end_time": "2025-04-14T09:37:07.754735Z",
     "start_time": "2025-04-14T09:37:07.746668Z"
    }
   },
   "cell_type": "code",
   "source": "",
   "id": "77454e0c41a13c77",
   "outputs": [],
   "execution_count": null
  },
  {
   "metadata": {
    "ExecuteTime": {
     "end_time": "2025-04-14T09:37:07.878820Z",
     "start_time": "2025-04-14T09:37:07.873360Z"
    }
   },
   "cell_type": "code",
   "source": "",
   "id": "51efdc406f068a40",
   "outputs": [],
   "execution_count": null
  }
 ],
 "metadata": {
  "kernelspec": {
   "display_name": "Python 3 (ipykernel)",
   "language": "python",
   "name": "python3"
  },
  "language_info": {
   "codemirror_mode": {
    "name": "ipython",
    "version": 3
   },
   "file_extension": ".py",
   "mimetype": "text/x-python",
   "name": "python",
   "nbconvert_exporter": "python",
   "pygments_lexer": "ipython3",
   "version": "3.11.10"
  }
 },
 "nbformat": 4,
 "nbformat_minor": 5
}
